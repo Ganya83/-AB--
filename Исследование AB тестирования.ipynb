{
 "cells": [
  {
   "cell_type": "markdown",
   "metadata": {
    "id": "u98L9TgH0eMk"
   },
   "source": [
    "# Исследование A/B-тестирования нового алгоритма рекомендаций в развлекательном приложении\n",
    "\n",
    "Вы работаете продуктовым аналитиком в компании, которая разрабатывает развлекательное приложение с функцией «бесконечной» ленты, как, например, в приложениях с короткими видео. В вашем приложении существует две модели монетизации: первая — ежемесячная платная подписка, которая позволяет пользователям смотреть ленту без рекламы, вторая — демонстрация рекламы для пользователей, которые ещё не оформили подписку.\n",
    "\n",
    "Команда разработчиков рекомендательных систем создала новый алгоритм рекомендаций, который, по их мнению, будет показывать более интересный контент для каждого пользователя. Вас, как аналитика, просят помочь рассчитать параметры A/B-теста, который позволит проверить эту гипотезу, и проанализировать его результаты."
   ]
  },
  {
   "cell_type": "markdown",
   "metadata": {
    "id": "LJBRALHs0eMf"
   },
   "source": [
    "## Описание данных\n",
    "\n",
    "Вы будете работать с тремя таблицами:\n",
    "\n",
    "- `sessions_project_history.csv` — таблица с историческими данными по сессиям пользователей на период с 2025-08-15 по 2025-09-23. Путь к файлу: `/datasets/sessions_project_history.csv`.\n",
    "\n",
    "- `sessions_project_test_part.csv` — таблица с данными за первый день проведения A/B-теста, то есть за 2025-10-14. Путь к файлу: `/datasets/sessions_project_test_part.csv`.\n",
    "\n",
    "- `sessions_project_test.csv` — таблица с данными за весь период проведения A/B-теста, то есть с 2025-10-14 по 2025-11-02. Путь к файлу: `/datasets/sessions_project_test.csv`.\n",
    "\n",
    "У этих таблиц почти совпадает структура и содержание колонок, различаются лишь периоды наблюдения.\n",
    "\n",
    "Поля таблиц `sessions_project_history.csv`, `sessions_project_test.csv`, `sessions_project_test_part.csv`:\n",
    "\n",
    "- `user_id` — идентификатор пользователя;\n",
    "\n",
    "- `session_id` — идентификатор сессии в приложении;\n",
    "\n",
    "- `session_date` — дата сессии;\n",
    "\n",
    "- `session_start_ts` — дата и время начала сессии;\n",
    "\n",
    "- `install_date` — дата установки приложения;\n",
    "\n",
    "- `session_number` — порядковый номер сессии для конкретного пользователя;\n",
    "\n",
    "- `registration_flag` — является ли пользователь зарегистрированным;\n",
    "\n",
    "- `page_counter` — количество просмотренных страниц во время сессии;\n",
    "\n",
    "- `region` — регион пользователя;\n",
    "\n",
    "- `device` — тип устройства пользователя;\n",
    "\n",
    "- `test_group` — тестовая группа (в таблице с историческими данными этого столбца нет).\n",
    "\n",
    "\n",
    "## Что нужно сделать\n",
    "Ваши задачи: рассчитать параметры теста, оценить корректность его проведения и проанализировать результаты эксперимента."
   ]
  },
  {
   "cell_type": "markdown",
   "metadata": {
    "id": "UpOucjID0eMl"
   },
   "source": [
    "### 1. Работа с историческими данными (EDA)"
   ]
  },
  {
   "cell_type": "markdown",
   "metadata": {
    "id": "8iJMtL-30eMl"
   },
   "source": [
    "#### 1.1. Загрузка исторических данных\n",
    "На первом этапе поработайте с историческими данными приложения:\n",
    "\n",
    "- Импортируйте библиотеку pandas.\n",
    "\n",
    "- Считайте и сохраните в датафрейм `sessions_history` CSV-файл с историческими данными о сессиях пользователей `sessions_project_history.csv`.\n",
    "\n",
    "Выведите на экран первые пять строк полученного датафрейма."
   ]
  },
  {
   "cell_type": "code",
   "execution_count": 1,
   "metadata": {
    "id": "6TPR2-1RPboT"
   },
   "outputs": [],
   "source": [
    "import pandas as pd"
   ]
  },
  {
   "cell_type": "code",
   "execution_count": 2,
   "metadata": {},
   "outputs": [],
   "source": [
    "sessions_history = pd.read_csv('/datasets/sessions_project_history.csv')"
   ]
  },
  {
   "cell_type": "code",
   "execution_count": 3,
   "metadata": {},
   "outputs": [
    {
     "data": {
      "text/html": [
       "<div>\n",
       "<style scoped>\n",
       "    .dataframe tbody tr th:only-of-type {\n",
       "        vertical-align: middle;\n",
       "    }\n",
       "\n",
       "    .dataframe tbody tr th {\n",
       "        vertical-align: top;\n",
       "    }\n",
       "\n",
       "    .dataframe thead th {\n",
       "        text-align: right;\n",
       "    }\n",
       "</style>\n",
       "<table border=\"1\" class=\"dataframe\">\n",
       "  <thead>\n",
       "    <tr style=\"text-align: right;\">\n",
       "      <th></th>\n",
       "      <th>user_id</th>\n",
       "      <th>session_id</th>\n",
       "      <th>session_date</th>\n",
       "      <th>session_start_ts</th>\n",
       "      <th>install_date</th>\n",
       "      <th>session_number</th>\n",
       "      <th>registration_flag</th>\n",
       "      <th>page_counter</th>\n",
       "      <th>region</th>\n",
       "      <th>device</th>\n",
       "    </tr>\n",
       "  </thead>\n",
       "  <tbody>\n",
       "    <tr>\n",
       "      <th>0</th>\n",
       "      <td>E302123B7000BFE4</td>\n",
       "      <td>F9AF61A0C2023832</td>\n",
       "      <td>2025-08-15</td>\n",
       "      <td>2025-08-15 17:47:35</td>\n",
       "      <td>2025-08-15</td>\n",
       "      <td>1</td>\n",
       "      <td>0</td>\n",
       "      <td>3</td>\n",
       "      <td>CIS</td>\n",
       "      <td>iPhone</td>\n",
       "    </tr>\n",
       "    <tr>\n",
       "      <th>1</th>\n",
       "      <td>2530F72E221829FB</td>\n",
       "      <td>85003A206CBDAC6F</td>\n",
       "      <td>2025-08-15</td>\n",
       "      <td>2025-08-15 16:42:14</td>\n",
       "      <td>2025-08-15</td>\n",
       "      <td>1</td>\n",
       "      <td>0</td>\n",
       "      <td>4</td>\n",
       "      <td>MENA</td>\n",
       "      <td>Android</td>\n",
       "    </tr>\n",
       "    <tr>\n",
       "      <th>2</th>\n",
       "      <td>876E020A4FC512F5</td>\n",
       "      <td>3677423E49D72DEE</td>\n",
       "      <td>2025-08-15</td>\n",
       "      <td>2025-08-15 12:30:00</td>\n",
       "      <td>2025-08-15</td>\n",
       "      <td>1</td>\n",
       "      <td>0</td>\n",
       "      <td>4</td>\n",
       "      <td>EU</td>\n",
       "      <td>PC</td>\n",
       "    </tr>\n",
       "    <tr>\n",
       "      <th>3</th>\n",
       "      <td>2640B349E1D81584</td>\n",
       "      <td>956B45F5915CA225</td>\n",
       "      <td>2025-08-15</td>\n",
       "      <td>2025-08-15 15:31:31</td>\n",
       "      <td>2025-08-15</td>\n",
       "      <td>1</td>\n",
       "      <td>0</td>\n",
       "      <td>4</td>\n",
       "      <td>CIS</td>\n",
       "      <td>Android</td>\n",
       "    </tr>\n",
       "    <tr>\n",
       "      <th>4</th>\n",
       "      <td>94E1CBFAEF1F5EE9</td>\n",
       "      <td>83BF0DA35F9F1F40</td>\n",
       "      <td>2025-08-15</td>\n",
       "      <td>2025-08-15 21:33:53</td>\n",
       "      <td>2025-08-15</td>\n",
       "      <td>1</td>\n",
       "      <td>0</td>\n",
       "      <td>3</td>\n",
       "      <td>CIS</td>\n",
       "      <td>Android</td>\n",
       "    </tr>\n",
       "  </tbody>\n",
       "</table>\n",
       "</div>"
      ],
      "text/plain": [
       "            user_id        session_id session_date     session_start_ts  \\\n",
       "0  E302123B7000BFE4  F9AF61A0C2023832   2025-08-15  2025-08-15 17:47:35   \n",
       "1  2530F72E221829FB  85003A206CBDAC6F   2025-08-15  2025-08-15 16:42:14   \n",
       "2  876E020A4FC512F5  3677423E49D72DEE   2025-08-15  2025-08-15 12:30:00   \n",
       "3  2640B349E1D81584  956B45F5915CA225   2025-08-15  2025-08-15 15:31:31   \n",
       "4  94E1CBFAEF1F5EE9  83BF0DA35F9F1F40   2025-08-15  2025-08-15 21:33:53   \n",
       "\n",
       "  install_date  session_number  registration_flag  page_counter region  \\\n",
       "0   2025-08-15               1                  0             3    CIS   \n",
       "1   2025-08-15               1                  0             4   MENA   \n",
       "2   2025-08-15               1                  0             4     EU   \n",
       "3   2025-08-15               1                  0             4    CIS   \n",
       "4   2025-08-15               1                  0             3    CIS   \n",
       "\n",
       "    device  \n",
       "0   iPhone  \n",
       "1  Android  \n",
       "2       PC  \n",
       "3  Android  \n",
       "4  Android  "
      ]
     },
     "execution_count": 3,
     "metadata": {},
     "output_type": "execute_result"
    }
   ],
   "source": [
    "sessions_history.head()"
   ]
  },
  {
   "cell_type": "markdown",
   "metadata": {
    "id": "qTDoiODz0eMo"
   },
   "source": [
    "#### 1.2. Знакомство с данными\n",
    "- Для каждого уникального пользователя `user_id` рассчитайте количество уникальных сессий `session_id`.\n",
    "\n",
    "- Выведите на экран все данные из таблицы `sessions_history` для одного пользователя с наибольшим количеством сессий. Если таких пользователей несколько, выберите любого из них.\n",
    "\n",
    "- Изучите таблицу для одного пользователя, чтобы лучше понять логику формирования каждого столбца данных.\n",
    "\n"
   ]
  },
  {
   "cell_type": "code",
   "execution_count": 4,
   "metadata": {
    "id": "PWZO9vTIPbPN"
   },
   "outputs": [
    {
     "data": {
      "text/plain": [
       "user_id\n",
       "10E0DEFC1ABDBBE0    10\n",
       "6A73CB5566BB494D    10\n",
       "8A60431A825D035B     9\n",
       "D11541BAC141FB94     9\n",
       "5BCFE7C4DCC148E9     9\n",
       "                    ..\n",
       "1DF13BB1953B3497     1\n",
       "628502A3CE7E0A3C     1\n",
       "1DEEF40DEFBD0C65     1\n",
       "AC08479B7472C628     1\n",
       "8A0882B6715D9EE5     1\n",
       "Name: session_id, Length: 134039, dtype: int64"
      ]
     },
     "execution_count": 4,
     "metadata": {},
     "output_type": "execute_result"
    }
   ],
   "source": [
    "sessions_history.groupby('user_id')['session_id'].count().sort_values(ascending = False)"
   ]
  },
  {
   "cell_type": "code",
   "execution_count": 5,
   "metadata": {},
   "outputs": [
    {
     "data": {
      "text/html": [
       "<div>\n",
       "<style scoped>\n",
       "    .dataframe tbody tr th:only-of-type {\n",
       "        vertical-align: middle;\n",
       "    }\n",
       "\n",
       "    .dataframe tbody tr th {\n",
       "        vertical-align: top;\n",
       "    }\n",
       "\n",
       "    .dataframe thead th {\n",
       "        text-align: right;\n",
       "    }\n",
       "</style>\n",
       "<table border=\"1\" class=\"dataframe\">\n",
       "  <thead>\n",
       "    <tr style=\"text-align: right;\">\n",
       "      <th></th>\n",
       "      <th>user_id</th>\n",
       "      <th>session_id</th>\n",
       "      <th>session_date</th>\n",
       "      <th>session_start_ts</th>\n",
       "      <th>install_date</th>\n",
       "      <th>session_number</th>\n",
       "      <th>registration_flag</th>\n",
       "      <th>page_counter</th>\n",
       "      <th>region</th>\n",
       "      <th>device</th>\n",
       "    </tr>\n",
       "  </thead>\n",
       "  <tbody>\n",
       "    <tr>\n",
       "      <th>115558</th>\n",
       "      <td>10E0DEFC1ABDBBE0</td>\n",
       "      <td>B8F0423BBFFCF5DC</td>\n",
       "      <td>2025-08-14</td>\n",
       "      <td>2025-08-14 13:57:39</td>\n",
       "      <td>2025-08-14</td>\n",
       "      <td>1</td>\n",
       "      <td>0</td>\n",
       "      <td>4</td>\n",
       "      <td>CIS</td>\n",
       "      <td>Android</td>\n",
       "    </tr>\n",
       "    <tr>\n",
       "      <th>191751</th>\n",
       "      <td>10E0DEFC1ABDBBE0</td>\n",
       "      <td>87CA2FA549473837</td>\n",
       "      <td>2025-08-15</td>\n",
       "      <td>2025-08-15 16:42:10</td>\n",
       "      <td>2025-08-14</td>\n",
       "      <td>2</td>\n",
       "      <td>0</td>\n",
       "      <td>3</td>\n",
       "      <td>CIS</td>\n",
       "      <td>Android</td>\n",
       "    </tr>\n",
       "    <tr>\n",
       "      <th>239370</th>\n",
       "      <td>10E0DEFC1ABDBBE0</td>\n",
       "      <td>4ADD8011DCDCE318</td>\n",
       "      <td>2025-08-16</td>\n",
       "      <td>2025-08-16 19:53:21</td>\n",
       "      <td>2025-08-14</td>\n",
       "      <td>3</td>\n",
       "      <td>0</td>\n",
       "      <td>3</td>\n",
       "      <td>CIS</td>\n",
       "      <td>Android</td>\n",
       "    </tr>\n",
       "    <tr>\n",
       "      <th>274629</th>\n",
       "      <td>10E0DEFC1ABDBBE0</td>\n",
       "      <td>DF0FD0E09BF1F3D7</td>\n",
       "      <td>2025-08-17</td>\n",
       "      <td>2025-08-17 15:03:43</td>\n",
       "      <td>2025-08-14</td>\n",
       "      <td>4</td>\n",
       "      <td>0</td>\n",
       "      <td>1</td>\n",
       "      <td>CIS</td>\n",
       "      <td>Android</td>\n",
       "    </tr>\n",
       "    <tr>\n",
       "      <th>302501</th>\n",
       "      <td>10E0DEFC1ABDBBE0</td>\n",
       "      <td>3C221774B4DE6885</td>\n",
       "      <td>2025-08-18</td>\n",
       "      <td>2025-08-18 17:29:14</td>\n",
       "      <td>2025-08-14</td>\n",
       "      <td>5</td>\n",
       "      <td>0</td>\n",
       "      <td>4</td>\n",
       "      <td>CIS</td>\n",
       "      <td>Android</td>\n",
       "    </tr>\n",
       "    <tr>\n",
       "      <th>325557</th>\n",
       "      <td>10E0DEFC1ABDBBE0</td>\n",
       "      <td>031BD7A67048105B</td>\n",
       "      <td>2025-08-19</td>\n",
       "      <td>2025-08-19 13:23:55</td>\n",
       "      <td>2025-08-14</td>\n",
       "      <td>6</td>\n",
       "      <td>0</td>\n",
       "      <td>2</td>\n",
       "      <td>CIS</td>\n",
       "      <td>Android</td>\n",
       "    </tr>\n",
       "    <tr>\n",
       "      <th>345336</th>\n",
       "      <td>10E0DEFC1ABDBBE0</td>\n",
       "      <td>FF4315CF4AD4B100</td>\n",
       "      <td>2025-08-20</td>\n",
       "      <td>2025-08-20 19:31:54</td>\n",
       "      <td>2025-08-14</td>\n",
       "      <td>7</td>\n",
       "      <td>0</td>\n",
       "      <td>2</td>\n",
       "      <td>CIS</td>\n",
       "      <td>Android</td>\n",
       "    </tr>\n",
       "    <tr>\n",
       "      <th>377532</th>\n",
       "      <td>10E0DEFC1ABDBBE0</td>\n",
       "      <td>4045FEA0747203B4</td>\n",
       "      <td>2025-08-22</td>\n",
       "      <td>2025-08-22 17:54:13</td>\n",
       "      <td>2025-08-14</td>\n",
       "      <td>8</td>\n",
       "      <td>0</td>\n",
       "      <td>2</td>\n",
       "      <td>CIS</td>\n",
       "      <td>Android</td>\n",
       "    </tr>\n",
       "    <tr>\n",
       "      <th>403538</th>\n",
       "      <td>10E0DEFC1ABDBBE0</td>\n",
       "      <td>344B086C421C7F37</td>\n",
       "      <td>2025-08-24</td>\n",
       "      <td>2025-08-24 14:46:13</td>\n",
       "      <td>2025-08-14</td>\n",
       "      <td>9</td>\n",
       "      <td>0</td>\n",
       "      <td>2</td>\n",
       "      <td>CIS</td>\n",
       "      <td>Android</td>\n",
       "    </tr>\n",
       "    <tr>\n",
       "      <th>414743</th>\n",
       "      <td>10E0DEFC1ABDBBE0</td>\n",
       "      <td>054F20BA371E4C9D</td>\n",
       "      <td>2025-08-25</td>\n",
       "      <td>2025-08-25 18:36:41</td>\n",
       "      <td>2025-08-14</td>\n",
       "      <td>10</td>\n",
       "      <td>0</td>\n",
       "      <td>3</td>\n",
       "      <td>CIS</td>\n",
       "      <td>Android</td>\n",
       "    </tr>\n",
       "  </tbody>\n",
       "</table>\n",
       "</div>"
      ],
      "text/plain": [
       "                 user_id        session_id session_date     session_start_ts  \\\n",
       "115558  10E0DEFC1ABDBBE0  B8F0423BBFFCF5DC   2025-08-14  2025-08-14 13:57:39   \n",
       "191751  10E0DEFC1ABDBBE0  87CA2FA549473837   2025-08-15  2025-08-15 16:42:10   \n",
       "239370  10E0DEFC1ABDBBE0  4ADD8011DCDCE318   2025-08-16  2025-08-16 19:53:21   \n",
       "274629  10E0DEFC1ABDBBE0  DF0FD0E09BF1F3D7   2025-08-17  2025-08-17 15:03:43   \n",
       "302501  10E0DEFC1ABDBBE0  3C221774B4DE6885   2025-08-18  2025-08-18 17:29:14   \n",
       "325557  10E0DEFC1ABDBBE0  031BD7A67048105B   2025-08-19  2025-08-19 13:23:55   \n",
       "345336  10E0DEFC1ABDBBE0  FF4315CF4AD4B100   2025-08-20  2025-08-20 19:31:54   \n",
       "377532  10E0DEFC1ABDBBE0  4045FEA0747203B4   2025-08-22  2025-08-22 17:54:13   \n",
       "403538  10E0DEFC1ABDBBE0  344B086C421C7F37   2025-08-24  2025-08-24 14:46:13   \n",
       "414743  10E0DEFC1ABDBBE0  054F20BA371E4C9D   2025-08-25  2025-08-25 18:36:41   \n",
       "\n",
       "       install_date  session_number  registration_flag  page_counter region  \\\n",
       "115558   2025-08-14               1                  0             4    CIS   \n",
       "191751   2025-08-14               2                  0             3    CIS   \n",
       "239370   2025-08-14               3                  0             3    CIS   \n",
       "274629   2025-08-14               4                  0             1    CIS   \n",
       "302501   2025-08-14               5                  0             4    CIS   \n",
       "325557   2025-08-14               6                  0             2    CIS   \n",
       "345336   2025-08-14               7                  0             2    CIS   \n",
       "377532   2025-08-14               8                  0             2    CIS   \n",
       "403538   2025-08-14               9                  0             2    CIS   \n",
       "414743   2025-08-14              10                  0             3    CIS   \n",
       "\n",
       "         device  \n",
       "115558  Android  \n",
       "191751  Android  \n",
       "239370  Android  \n",
       "274629  Android  \n",
       "302501  Android  \n",
       "325557  Android  \n",
       "345336  Android  \n",
       "377532  Android  \n",
       "403538  Android  \n",
       "414743  Android  "
      ]
     },
     "execution_count": 5,
     "metadata": {},
     "output_type": "execute_result"
    }
   ],
   "source": [
    "user_data = sessions_history[sessions_history['user_id'] == '10E0DEFC1ABDBBE0']\n",
    "user_data"
   ]
  },
  {
   "cell_type": "markdown",
   "metadata": {
    "id": "CmcGpJTP0eMq"
   },
   "source": [
    "#### 1.3. Анализ числа регистраций\n",
    "Одна из важнейших метрик продукта — число зарегистрированных пользователей. Используя исторические данные, визуализируйте, как менялось число регистраций в приложении за время его существования.\n",
    "\n",
    "- Агрегируйте исторические данные и рассчитайте число уникальных пользователей и число зарегистрированных пользователей для каждого дня наблюдения. Для простоты считайте, что у пользователя в течение дня бывает одна сессия максимум и статус регистрации в течение одного дня не может измениться.\n",
    "\n",
    "- Постройте линейные графики общего числа пользователей и общего числа зарегистрированных пользователей по дням. Отобразите их на одном графике.\n",
    "\n",
    "- Постройте отдельный линейный график доли зарегистрированных пользователей от всех пользователей по дням.\n",
    "\n",
    "- На обоих графиках должны быть заголовок, подписанные оси X и Y, сетка и легенда."
   ]
  },
  {
   "cell_type": "code",
   "execution_count": 6,
   "metadata": {},
   "outputs": [],
   "source": [
    "daily_stats = sessions_history.groupby('session_date').agg( total_users=('user_id', 'nunique'),             # Уникальные пользователи за день\n",
    "                                                       registered_users=('registration_flag', 'sum')).reset_index()  # Число зарегистрированных"
   ]
  },
  {
   "cell_type": "code",
   "execution_count": 7,
   "metadata": {},
   "outputs": [
    {
     "data": {
      "text/html": [
       "<div>\n",
       "<style scoped>\n",
       "    .dataframe tbody tr th:only-of-type {\n",
       "        vertical-align: middle;\n",
       "    }\n",
       "\n",
       "    .dataframe tbody tr th {\n",
       "        vertical-align: top;\n",
       "    }\n",
       "\n",
       "    .dataframe thead th {\n",
       "        text-align: right;\n",
       "    }\n",
       "</style>\n",
       "<table border=\"1\" class=\"dataframe\">\n",
       "  <thead>\n",
       "    <tr style=\"text-align: right;\">\n",
       "      <th></th>\n",
       "      <th>session_date</th>\n",
       "      <th>total_users</th>\n",
       "      <th>registered_users</th>\n",
       "    </tr>\n",
       "  </thead>\n",
       "  <tbody>\n",
       "    <tr>\n",
       "      <th>0</th>\n",
       "      <td>2025-08-11</td>\n",
       "      <td>3919</td>\n",
       "      <td>169</td>\n",
       "    </tr>\n",
       "    <tr>\n",
       "      <th>1</th>\n",
       "      <td>2025-08-12</td>\n",
       "      <td>6056</td>\n",
       "      <td>336</td>\n",
       "    </tr>\n",
       "    <tr>\n",
       "      <th>2</th>\n",
       "      <td>2025-08-13</td>\n",
       "      <td>8489</td>\n",
       "      <td>464</td>\n",
       "    </tr>\n",
       "    <tr>\n",
       "      <th>3</th>\n",
       "      <td>2025-08-14</td>\n",
       "      <td>10321</td>\n",
       "      <td>625</td>\n",
       "    </tr>\n",
       "    <tr>\n",
       "      <th>4</th>\n",
       "      <td>2025-08-15</td>\n",
       "      <td>14065</td>\n",
       "      <td>840</td>\n",
       "    </tr>\n",
       "    <tr>\n",
       "      <th>5</th>\n",
       "      <td>2025-08-16</td>\n",
       "      <td>12205</td>\n",
       "      <td>916</td>\n",
       "    </tr>\n",
       "    <tr>\n",
       "      <th>6</th>\n",
       "      <td>2025-08-17</td>\n",
       "      <td>11200</td>\n",
       "      <td>833</td>\n",
       "    </tr>\n",
       "    <tr>\n",
       "      <th>7</th>\n",
       "      <td>2025-08-18</td>\n",
       "      <td>10839</td>\n",
       "      <td>860</td>\n",
       "    </tr>\n",
       "    <tr>\n",
       "      <th>8</th>\n",
       "      <td>2025-08-19</td>\n",
       "      <td>12118</td>\n",
       "      <td>831</td>\n",
       "    </tr>\n",
       "    <tr>\n",
       "      <th>9</th>\n",
       "      <td>2025-08-20</td>\n",
       "      <td>13514</td>\n",
       "      <td>1008</td>\n",
       "    </tr>\n",
       "    <tr>\n",
       "      <th>10</th>\n",
       "      <td>2025-08-21</td>\n",
       "      <td>15051</td>\n",
       "      <td>1063</td>\n",
       "    </tr>\n",
       "    <tr>\n",
       "      <th>11</th>\n",
       "      <td>2025-08-22</td>\n",
       "      <td>17563</td>\n",
       "      <td>1251</td>\n",
       "    </tr>\n",
       "    <tr>\n",
       "      <th>12</th>\n",
       "      <td>2025-08-23</td>\n",
       "      <td>16082</td>\n",
       "      <td>1253</td>\n",
       "    </tr>\n",
       "    <tr>\n",
       "      <th>13</th>\n",
       "      <td>2025-08-24</td>\n",
       "      <td>13683</td>\n",
       "      <td>1181</td>\n",
       "    </tr>\n",
       "    <tr>\n",
       "      <th>14</th>\n",
       "      <td>2025-08-25</td>\n",
       "      <td>13635</td>\n",
       "      <td>1060</td>\n",
       "    </tr>\n",
       "    <tr>\n",
       "      <th>15</th>\n",
       "      <td>2025-08-26</td>\n",
       "      <td>13289</td>\n",
       "      <td>1050</td>\n",
       "    </tr>\n",
       "    <tr>\n",
       "      <th>16</th>\n",
       "      <td>2025-08-27</td>\n",
       "      <td>14766</td>\n",
       "      <td>1076</td>\n",
       "    </tr>\n",
       "    <tr>\n",
       "      <th>17</th>\n",
       "      <td>2025-08-28</td>\n",
       "      <td>15388</td>\n",
       "      <td>1175</td>\n",
       "    </tr>\n",
       "    <tr>\n",
       "      <th>18</th>\n",
       "      <td>2025-08-29</td>\n",
       "      <td>16873</td>\n",
       "      <td>1174</td>\n",
       "    </tr>\n",
       "    <tr>\n",
       "      <th>19</th>\n",
       "      <td>2025-08-30</td>\n",
       "      <td>14891</td>\n",
       "      <td>1165</td>\n",
       "    </tr>\n",
       "    <tr>\n",
       "      <th>20</th>\n",
       "      <td>2025-08-31</td>\n",
       "      <td>13266</td>\n",
       "      <td>1105</td>\n",
       "    </tr>\n",
       "    <tr>\n",
       "      <th>21</th>\n",
       "      <td>2025-09-01</td>\n",
       "      <td>12685</td>\n",
       "      <td>1028</td>\n",
       "    </tr>\n",
       "    <tr>\n",
       "      <th>22</th>\n",
       "      <td>2025-09-02</td>\n",
       "      <td>12672</td>\n",
       "      <td>1039</td>\n",
       "    </tr>\n",
       "    <tr>\n",
       "      <th>23</th>\n",
       "      <td>2025-09-03</td>\n",
       "      <td>12777</td>\n",
       "      <td>1035</td>\n",
       "    </tr>\n",
       "    <tr>\n",
       "      <th>24</th>\n",
       "      <td>2025-09-04</td>\n",
       "      <td>13683</td>\n",
       "      <td>1007</td>\n",
       "    </tr>\n",
       "    <tr>\n",
       "      <th>25</th>\n",
       "      <td>2025-09-05</td>\n",
       "      <td>15324</td>\n",
       "      <td>1030</td>\n",
       "    </tr>\n",
       "    <tr>\n",
       "      <th>26</th>\n",
       "      <td>2025-09-06</td>\n",
       "      <td>13078</td>\n",
       "      <td>1023</td>\n",
       "    </tr>\n",
       "    <tr>\n",
       "      <th>27</th>\n",
       "      <td>2025-09-07</td>\n",
       "      <td>12367</td>\n",
       "      <td>1069</td>\n",
       "    </tr>\n",
       "    <tr>\n",
       "      <th>28</th>\n",
       "      <td>2025-09-08</td>\n",
       "      <td>11826</td>\n",
       "      <td>1009</td>\n",
       "    </tr>\n",
       "    <tr>\n",
       "      <th>29</th>\n",
       "      <td>2025-09-09</td>\n",
       "      <td>11780</td>\n",
       "      <td>980</td>\n",
       "    </tr>\n",
       "    <tr>\n",
       "      <th>30</th>\n",
       "      <td>2025-09-10</td>\n",
       "      <td>12526</td>\n",
       "      <td>1015</td>\n",
       "    </tr>\n",
       "    <tr>\n",
       "      <th>31</th>\n",
       "      <td>2025-09-11</td>\n",
       "      <td>8623</td>\n",
       "      <td>824</td>\n",
       "    </tr>\n",
       "    <tr>\n",
       "      <th>32</th>\n",
       "      <td>2025-09-12</td>\n",
       "      <td>6436</td>\n",
       "      <td>669</td>\n",
       "    </tr>\n",
       "    <tr>\n",
       "      <th>33</th>\n",
       "      <td>2025-09-13</td>\n",
       "      <td>5183</td>\n",
       "      <td>537</td>\n",
       "    </tr>\n",
       "    <tr>\n",
       "      <th>34</th>\n",
       "      <td>2025-09-14</td>\n",
       "      <td>4364</td>\n",
       "      <td>440</td>\n",
       "    </tr>\n",
       "    <tr>\n",
       "      <th>35</th>\n",
       "      <td>2025-09-15</td>\n",
       "      <td>3698</td>\n",
       "      <td>383</td>\n",
       "    </tr>\n",
       "    <tr>\n",
       "      <th>36</th>\n",
       "      <td>2025-09-16</td>\n",
       "      <td>3032</td>\n",
       "      <td>286</td>\n",
       "    </tr>\n",
       "    <tr>\n",
       "      <th>37</th>\n",
       "      <td>2025-09-17</td>\n",
       "      <td>2548</td>\n",
       "      <td>272</td>\n",
       "    </tr>\n",
       "    <tr>\n",
       "      <th>38</th>\n",
       "      <td>2025-09-18</td>\n",
       "      <td>1952</td>\n",
       "      <td>201</td>\n",
       "    </tr>\n",
       "    <tr>\n",
       "      <th>39</th>\n",
       "      <td>2025-09-19</td>\n",
       "      <td>1418</td>\n",
       "      <td>132</td>\n",
       "    </tr>\n",
       "    <tr>\n",
       "      <th>40</th>\n",
       "      <td>2025-09-20</td>\n",
       "      <td>1100</td>\n",
       "      <td>107</td>\n",
       "    </tr>\n",
       "    <tr>\n",
       "      <th>41</th>\n",
       "      <td>2025-09-21</td>\n",
       "      <td>776</td>\n",
       "      <td>87</td>\n",
       "    </tr>\n",
       "    <tr>\n",
       "      <th>42</th>\n",
       "      <td>2025-09-22</td>\n",
       "      <td>546</td>\n",
       "      <td>68</td>\n",
       "    </tr>\n",
       "    <tr>\n",
       "      <th>43</th>\n",
       "      <td>2025-09-23</td>\n",
       "      <td>317</td>\n",
       "      <td>32</td>\n",
       "    </tr>\n",
       "  </tbody>\n",
       "</table>\n",
       "</div>"
      ],
      "text/plain": [
       "   session_date  total_users  registered_users\n",
       "0    2025-08-11         3919               169\n",
       "1    2025-08-12         6056               336\n",
       "2    2025-08-13         8489               464\n",
       "3    2025-08-14        10321               625\n",
       "4    2025-08-15        14065               840\n",
       "5    2025-08-16        12205               916\n",
       "6    2025-08-17        11200               833\n",
       "7    2025-08-18        10839               860\n",
       "8    2025-08-19        12118               831\n",
       "9    2025-08-20        13514              1008\n",
       "10   2025-08-21        15051              1063\n",
       "11   2025-08-22        17563              1251\n",
       "12   2025-08-23        16082              1253\n",
       "13   2025-08-24        13683              1181\n",
       "14   2025-08-25        13635              1060\n",
       "15   2025-08-26        13289              1050\n",
       "16   2025-08-27        14766              1076\n",
       "17   2025-08-28        15388              1175\n",
       "18   2025-08-29        16873              1174\n",
       "19   2025-08-30        14891              1165\n",
       "20   2025-08-31        13266              1105\n",
       "21   2025-09-01        12685              1028\n",
       "22   2025-09-02        12672              1039\n",
       "23   2025-09-03        12777              1035\n",
       "24   2025-09-04        13683              1007\n",
       "25   2025-09-05        15324              1030\n",
       "26   2025-09-06        13078              1023\n",
       "27   2025-09-07        12367              1069\n",
       "28   2025-09-08        11826              1009\n",
       "29   2025-09-09        11780               980\n",
       "30   2025-09-10        12526              1015\n",
       "31   2025-09-11         8623               824\n",
       "32   2025-09-12         6436               669\n",
       "33   2025-09-13         5183               537\n",
       "34   2025-09-14         4364               440\n",
       "35   2025-09-15         3698               383\n",
       "36   2025-09-16         3032               286\n",
       "37   2025-09-17         2548               272\n",
       "38   2025-09-18         1952               201\n",
       "39   2025-09-19         1418               132\n",
       "40   2025-09-20         1100               107\n",
       "41   2025-09-21          776                87\n",
       "42   2025-09-22          546                68\n",
       "43   2025-09-23          317                32"
      ]
     },
     "execution_count": 7,
     "metadata": {},
     "output_type": "execute_result"
    }
   ],
   "source": [
    "daily_stats"
   ]
  },
  {
   "cell_type": "code",
   "execution_count": 8,
   "metadata": {
    "scrolled": true
   },
   "outputs": [
    {
     "data": {
      "image/png": "[encoded data removed]",
      "text/plain": [
       "<Figure size 1008x504 with 1 Axes>"
      ]
     },
     "metadata": {
      "needs_background": "light"
     },
     "output_type": "display_data"
    }
   ],
   "source": [
    "import matplotlib.pyplot as plt\n",
    "import matplotlib.dates as mdates\n",
    "\n",
    "plt.figure(figsize=(14, 7))\n",
    "\n",
    "plt.plot(daily_stats['session_date'], \n",
    "         daily_stats['total_users'], \n",
    "         label='Все пользователи', \n",
    "         color='blue', \n",
    "         linewidth=2)\n",
    "\n",
    "plt.plot(daily_stats['session_date'], \n",
    "         daily_stats['registered_users'], \n",
    "         label='Зарегистрированные', \n",
    "         color='green', \n",
    "         linewidth=2)\n",
    "\n",
    "plt.title('Динамика пользователей по дням', fontsize=16, pad=20)\n",
    "plt.xlabel('Дата', fontsize=12)\n",
    "plt.ylabel('Количество пользователей', fontsize=12)\n",
    "plt.xticks(rotation=45)\n",
    "\n",
    "plt.legend(fontsize=12)\n",
    "plt.grid(True, alpha=0.3)\n",
    "plt.show()"
   ]
  },
  {
   "cell_type": "markdown",
   "metadata": {},
   "source": [
    "С 11 августа по 30 августа наблюдается устойчивый рост как общего числа пользователей (total_users), так и зарегистрированных (registered_users). Пик активности приходится на 22 августа (17 563 пользователя), после чего начинается постепенное снижение.\n",
    "\n",
    "С 1 сентября тренд меняется на нисходящий, а с 11 сентября происходит резкий обвал (с 12 526 до 8 623 пользователей), после чего активность продолжает стремительно снижаться.\n",
    "Данные за август указывают на возможный сезонный всплеск (например, запуск продукта, маркетинговая кампания, начало учебного года и т. д.).\n",
    "\n",
    "Резкий спад после 11 сентября может быть связан с:\n",
    "\n",
    "- Окончанием рекламной акции/кампании.\n",
    "\n",
    "- Техническими проблемами (например, сбои в работе сервиса).\n",
    "\n",
    "- Внешними факторами (изменение рыночных условий, выход конкурента)."
   ]
  },
  {
   "cell_type": "code",
   "execution_count": 9,
   "metadata": {
    "id": "tN_6Ml3EPatS",
    "scrolled": true
   },
   "outputs": [
    {
     "data": {
      "image/png": "[encoded data removed]",
      "text/plain": [
       "<Figure size 1008x504 with 1 Axes>"
      ]
     },
     "metadata": {
      "needs_background": "light"
     },
     "output_type": "display_data"
    }
   ],
   "source": [
    "# Рассчитываем долю зарегистрированных пользователей\n",
    "daily_stats['registration_ratio'] = (daily_stats['registered_users'] / daily_stats['total_users']) * 100\n",
    "\n",
    "# Создаем фигуру\n",
    "plt.figure(figsize=(14, 7))\n",
    "\n",
    "# Строим график доли\n",
    "plt.plot(daily_stats['session_date'], \n",
    "         daily_stats['registration_ratio'], \n",
    "         label='Доля зарегистрированных', \n",
    "         color='purple', \n",
    "         linewidth=2,\n",
    "         marker='o',\n",
    "         markersize=4)\n",
    "\n",
    "plt.title('Доля зарегистрированных пользователей по дням', fontsize=16, pad=20)\n",
    "plt.xlabel('Дата', fontsize=12)\n",
    "plt.ylabel('Доля, %', fontsize=12)\n",
    "plt.xticks(rotation=45)\n",
    "plt.legend(fontsize=12)\n",
    "plt.grid(True, alpha=0.3)\n",
    "plt.show()"
   ]
  },
  {
   "cell_type": "markdown",
   "metadata": {},
   "source": [
    "Доля зарегистрированных пользователей (registered_users) от общего числа (total_users) постепенно растет:\n",
    "\n",
    "11 августа: 4.3% (169 / 3919)\n",
    "\n",
    "22 августа: 7.1% (1251 / 17563)\n",
    "\n",
    "11 сентября: 9.6% (824 / 8623) – несмотря на падение активности, доля регистраций увеличивается.\n",
    "\n",
    "Это может говорить о:\n",
    "\n",
    "- Улучшении вовлеченности пользователей.\n",
    "\n",
    "- Изменении стратегии (например, обязательная регистрация для доступа к функционалу)."
   ]
  },
  {
   "cell_type": "markdown",
   "metadata": {
    "id": "UR7D7RhF0eMr"
   },
   "source": [
    "#### 1.4. Анализ числа просмотренных страниц\n",
    "Другая важная метрика продукта — число просмотренных страниц в приложении. Чем больше страниц просмотрено, тем сильнее пользователь увлечён контентом, а значит, выше шансы на то, что он зарегистрируется и оплатит подписку.\n",
    "\n",
    "- Найдите количество сессий для каждого значения количества просмотренных страниц. Например: одну страницу просмотрели в 29160 сессиях, две страницы в 105536 сессиях и так далее.\n",
    "\n",
    "- Постройте столбчатую диаграмму, где по оси X будет число просмотренных страниц, по оси Y — количество сессий.\n",
    "\n",
    "- На диаграмме должны быть заголовок, подписанные оси X и Y."
   ]
  },
  {
   "cell_type": "code",
   "execution_count": 10,
   "metadata": {
    "id": "cb6hPlVzPaSf",
    "scrolled": true
   },
   "outputs": [
    {
     "data": {
      "text/plain": [
       "page_counter\n",
       "3    166690\n",
       "4    105569\n",
       "2    105536\n",
       "1     29160\n",
       "5     26288\n",
       "6      2589\n",
       "7        92\n",
       "Name: session_id, dtype: int64"
      ]
     },
     "execution_count": 10,
     "metadata": {},
     "output_type": "execute_result"
    }
   ],
   "source": [
    "sessions_per_page = sessions_history.groupby('page_counter')['session_id'].count().sort_values(ascending = False)\n",
    "sessions_per_page"
   ]
  },
  {
   "cell_type": "code",
   "execution_count": 11,
   "metadata": {
    "scrolled": true
   },
   "outputs": [
    {
     "data": {
      "image/png": "[encoded data removed]",
      "text/plain": [
       "<Figure size 864x432 with 1 Axes>"
      ]
     },
     "metadata": {
      "needs_background": "light"
     },
     "output_type": "display_data"
    }
   ],
   "source": [
    "plt.figure(figsize=(12, 6))\n",
    "sessions_per_page.plot(kind='bar', color='skyblue', edgecolor='black')\n",
    "\n",
    "plt.title('Количество сессий по числу просмотренных страниц', fontsize=15, pad=20)\n",
    "plt.xlabel('Число просмотренных страниц', fontsize=12)\n",
    "plt.ylabel('Количество сессий', fontsize=12)\n",
    "plt.xticks(rotation=0)\n",
    "plt.grid(axis='y')"
   ]
  },
  {
   "cell_type": "markdown",
   "metadata": {},
   "source": [
    "Большинство сессий заканчиваются на 3-й странице (166 690) – это пиковое значение.\n",
    "\n",
    "Возможные причины:\n",
    "\n",
    "- Пользователи активно взаимодействуют с контентом до 3-й страницы, но затем уходят.\n",
    "\n",
    "- На 3-й странице может находиться ключевой элемент (например, форма регистрации, платный доступ или финальный шаг воронки).\n",
    "\n",
    "После 3-й странице наблюдается значительное падение."
   ]
  },
  {
   "cell_type": "markdown",
   "metadata": {
    "id": "xDltSpVP0eMr"
   },
   "source": [
    "#### 1.5. Доля пользователей, просмотревших более четырёх страниц\n",
    "Продуктовая команда продукта считает, что сессии, в рамках которых пользователь просмотрел 4 и более страниц, говорят об удовлетворённости контентом и алгоритмами рекомендаций. Этот показатель является важной прокси-метрикой для продукта.\n",
    "\n",
    "- В датафрейме `sessions_history` создайте дополнительный столбец `good_session`. В него войдёт значение `1`, если за одну сессию было просмотрено 4 и более страниц, и значение `0`, если было просмотрено меньше.\n",
    "\n",
    "- Постройте график со средним значением доли успешных сессий ко всем сессиям по дням за весь период наблюдения."
   ]
  },
  {
   "cell_type": "code",
   "execution_count": 12,
   "metadata": {
    "id": "iygaPfixPYMW"
   },
   "outputs": [
    {
     "data": {
      "text/html": [
       "<div>\n",
       "<style scoped>\n",
       "    .dataframe tbody tr th:only-of-type {\n",
       "        vertical-align: middle;\n",
       "    }\n",
       "\n",
       "    .dataframe tbody tr th {\n",
       "        vertical-align: top;\n",
       "    }\n",
       "\n",
       "    .dataframe thead th {\n",
       "        text-align: right;\n",
       "    }\n",
       "</style>\n",
       "<table border=\"1\" class=\"dataframe\">\n",
       "  <thead>\n",
       "    <tr style=\"text-align: right;\">\n",
       "      <th></th>\n",
       "      <th>session_id</th>\n",
       "      <th>page_counter</th>\n",
       "      <th>good_session</th>\n",
       "    </tr>\n",
       "  </thead>\n",
       "  <tbody>\n",
       "    <tr>\n",
       "      <th>0</th>\n",
       "      <td>F9AF61A0C2023832</td>\n",
       "      <td>3</td>\n",
       "      <td>0</td>\n",
       "    </tr>\n",
       "    <tr>\n",
       "      <th>1</th>\n",
       "      <td>85003A206CBDAC6F</td>\n",
       "      <td>4</td>\n",
       "      <td>1</td>\n",
       "    </tr>\n",
       "    <tr>\n",
       "      <th>2</th>\n",
       "      <td>3677423E49D72DEE</td>\n",
       "      <td>4</td>\n",
       "      <td>1</td>\n",
       "    </tr>\n",
       "    <tr>\n",
       "      <th>3</th>\n",
       "      <td>956B45F5915CA225</td>\n",
       "      <td>4</td>\n",
       "      <td>1</td>\n",
       "    </tr>\n",
       "    <tr>\n",
       "      <th>4</th>\n",
       "      <td>83BF0DA35F9F1F40</td>\n",
       "      <td>3</td>\n",
       "      <td>0</td>\n",
       "    </tr>\n",
       "  </tbody>\n",
       "</table>\n",
       "</div>"
      ],
      "text/plain": [
       "         session_id  page_counter  good_session\n",
       "0  F9AF61A0C2023832             3             0\n",
       "1  85003A206CBDAC6F             4             1\n",
       "2  3677423E49D72DEE             4             1\n",
       "3  956B45F5915CA225             4             1\n",
       "4  83BF0DA35F9F1F40             3             0"
      ]
     },
     "metadata": {},
     "output_type": "display_data"
    }
   ],
   "source": [
    "# Для создания нового столбца 'good_session' создадим булеву маску (True/False) и с помощью .astype(int) - преобразуем True в 1, False в 0\n",
    "sessions_history['good_session'] = (sessions_history['page_counter'] >= 4).astype(int)\n",
    "display(sessions_history[['session_id', 'page_counter', 'good_session']].head())"
   ]
  },
  {
   "cell_type": "code",
   "execution_count": 13,
   "metadata": {},
   "outputs": [
    {
     "name": "stdout",
     "output_type": "stream",
     "text": [
      "object\n"
     ]
    }
   ],
   "source": [
    "# Проверим тип данных с столбце 'session_date'\n",
    "print(sessions_history['session_date'].dtype)"
   ]
  },
  {
   "cell_type": "code",
   "execution_count": 14,
   "metadata": {},
   "outputs": [
    {
     "data": {
      "image/png": "[encoded data removed]",
      "text/plain": [
       "<Figure size 1008x504 with 1 Axes>"
      ]
     },
     "metadata": {
      "needs_background": "light"
     },
     "output_type": "display_data"
    }
   ],
   "source": [
    "# Группируем по дням и считаем среднюю долю 'good_session'\n",
    "daily_good_sessions = sessions_history.groupby(\n",
    "    pd.to_datetime(sessions_history['session_date'])).agg(\n",
    "    success_rate=('good_session', 'mean')).reset_index()\n",
    "\n",
    "plt.figure(figsize=(14, 7))\n",
    "\n",
    "plt.plot(daily_good_sessions['session_date'], \n",
    "         daily_good_sessions['success_rate'], \n",
    "         color='blue')\n",
    "\n",
    "plt.title('Динамика доли успешных сессий по дням', fontsize=16, pad=20)\n",
    "plt.xlabel('Дата', fontsize=12)\n",
    "plt.ylabel('Доля успешных сессий', fontsize=12)\n",
    "plt.grid(axis='y')\n",
    "plt.show()    "
   ]
  },
  {
   "cell_type": "markdown",
   "metadata": {},
   "source": [
    "Доля успешных сессий по дням достаточно стабильна (30–32%), что говорит о надежности сервиса.\n",
    "После 11 сентября набюдается небольшое снижение (до 29%), но не критичное."
   ]
  },
  {
   "cell_type": "markdown",
   "metadata": {
    "id": "21JcG77Y0eMt"
   },
   "source": [
    "### 2. Подготовка к тесту\n",
    "При планировании теста необходимо проделать несколько важных шагов:\n",
    "\n",
    "- Определиться с целевой метрикой.\n",
    "\n",
    "- Рассчитать необходимый размер выборки.\n",
    "\n",
    "- Исходя из текущих значений трафика, рассчитать необходимую длительность проведения теста."
   ]
  },
  {
   "cell_type": "markdown",
   "metadata": {
    "id": "uzaeln270eMt"
   },
   "source": [
    "#### 2.1. Расчёт размера выборки\n",
    "В рамках курса вам уже приходилось рассчитывать размеры выборки, используя онлайн-калькуляторы. В этом задании предлагаем воспользоваться готовым кодом и рассчитать необходимое для вашего дизайна эксперимента количество пользователей.\n",
    "\n",
    "Для этого установите в коде ниже следующие параметры:\n",
    "\n",
    "- Уровень значимости — 0.05.\n",
    "\n",
    "- Вероятность ошибки второго рода — 0.2.\n",
    "\n",
    "- Мощность теста.\n",
    "\n",
    "- Минимальный детектируемый эффект, или MDE, — 3%. Обратите внимание, что здесь нужно указать десятичную дробь, а не процент.\n",
    "\n",
    "При расчёте размера выборки мы будем использовать метод `solve_power()` из класса `power.NormalIndPower` модуля `statsmodels.stats`.\n",
    "\n",
    "Запустите ячейку и изучите полученное значение."
   ]
  },
  {
   "cell_type": "code",
   "execution_count": 15,
   "metadata": {
    "id": "zSxJyPGPNdaI"
   },
   "outputs": [
    {
     "name": "stdout",
     "output_type": "stream",
     "text": [
      "Необходимый размер выборки для каждой группы: 17441\n"
     ]
    }
   ],
   "source": [
    "from statsmodels.stats.power import NormalIndPower\n",
    "\n",
    "# Задаём параметры\n",
    "alpha = 0.05  # Уровень значимости\n",
    "beta = 0.2  # Ошибка второго рода, часто 1 - мощность\n",
    "power = 1-beta  # Мощность теста\n",
    "mde = 0.03  # Минимальный детектируемый эффект\n",
    "\n",
    "# Инициализируем класс NormalIndPower\n",
    "power_analysis = NormalIndPower()\n",
    "\n",
    "# Рассчитываем размер выборки\n",
    "sample_size = power_analysis.solve_power(\n",
    "    effect_size = mde,\n",
    "    power = power,\n",
    "    alpha = alpha,\n",
    "    ratio = 1 # Равномерное распределение выборок\n",
    ")\n",
    "\n",
    "print(f\"Необходимый размер выборки для каждой группы: {int(sample_size)}\")"
   ]
  },
  {
   "cell_type": "markdown",
   "metadata": {
    "id": "qLEv4RoV0eMu"
   },
   "source": [
    "#### 2.1. Расчёт длительности A/B-теста\n",
    "\n",
    "Используйте данные о количестве пользователей в каждой выборке и среднем количестве пользователей приложения. Рассчитайте длительность теста, разделив одно на другое.\n",
    "\n",
    "- Рассчитайте среднее количество уникальных пользователей приложения в день.\n",
    "\n",
    "- Определите длительность теста, исходя из рассчитанного значения размера выборок и среднего дневного трафика приложения. Количество дней округлите в большую сторону."
   ]
  },
  {
   "cell_type": "code",
   "execution_count": 16,
   "metadata": {
    "id": "KZDRbryDOGHa"
   },
   "outputs": [
    {
     "name": "stdout",
     "output_type": "stream",
     "text": [
      "Рассчитанная длительность A/B-теста при текущем уровене трафика в 9907 пользователей в день составит 4 дней\n"
     ]
    }
   ],
   "source": [
    "from math import ceil\n",
    "\n",
    "# Среднее количество пользователей приложения в день по историческим данным\n",
    "avg_daily_users = round(sessions_history.groupby(\n",
    "    pd.to_datetime(sessions_history['session_date']))['user_id'].nunique().mean())\n",
    "\n",
    "# Рассчитываем длительность теста в днях как отношение размера выборки к среднему числу пользователей\n",
    "test_duration = ceil(sample_size*2/avg_daily_users)\n",
    "\n",
    "print(f\"Рассчитанная длительность A/B-теста при текущем уровене трафика в {avg_daily_users} пользователей в день составит {test_duration} дней\")"
   ]
  },
  {
   "cell_type": "markdown",
   "metadata": {
    "id": "ZuvtAdha0eMv"
   },
   "source": [
    "### 3. Мониторинг А/В-теста"
   ]
  },
  {
   "cell_type": "markdown",
   "metadata": {
    "id": "jq5sE3Ya0eMv"
   },
   "source": [
    "#### 3.1. Проверка распределения пользователей\n",
    "\n",
    "A/B-тест успешно запущен, и уже доступны данные за первые три дня. На этом этапе нужно убедиться, что всё идёт хорошо: пользователи разделены правильным образом, а интересующие вас метрики корректно считаются.\n",
    "\n",
    "- Считайте и сохраните в датафрейм `sessions_test_part` CSV-файл с историческими данными о сессиях пользователей `sessions_project_test_part.csv`.\n",
    "\n",
    "- Рассчитайте количество уникальных пользователей в каждой из экспериментальных групп для одного дня наблюдения.\n",
    "\n",
    "- Рассчитайте и выведите на экран процентную разницу в количестве пользователей в группах A и B. Постройте любую удобную визуализацию, на которой можно было бы увидеть возможное различие двух групп.\n",
    "\n",
    "Для расчёта процентной разницы воспользуйтесь формулой:\n",
    "$$P = 100 \\cdot  \\frac{|A − B|}{A}$$"
   ]
  },
  {
   "cell_type": "code",
   "execution_count": 17,
   "metadata": {
    "id": "G1bqIzDJOUiz"
   },
   "outputs": [],
   "source": [
    "sessions_test_part = pd.read_csv('/datasets/sessions_project_test_part.csv')"
   ]
  },
  {
   "cell_type": "code",
   "execution_count": 18,
   "metadata": {},
   "outputs": [
    {
     "data": {
      "text/plain": [
       "user_id              object\n",
       "session_id           object\n",
       "session_date         object\n",
       "session_start_ts     object\n",
       "install_date         object\n",
       "session_number        int64\n",
       "registration_flag     int64\n",
       "page_counter          int64\n",
       "region               object\n",
       "device               object\n",
       "test_group           object\n",
       "dtype: object"
      ]
     },
     "execution_count": 18,
     "metadata": {},
     "output_type": "execute_result"
    }
   ],
   "source": [
    "# Проверим типы данных\n",
    "sessions_test_part.dtypes"
   ]
  },
  {
   "cell_type": "code",
   "execution_count": 19,
   "metadata": {},
   "outputs": [],
   "source": [
    "sessions_test_part['session_date'] = pd.to_datetime(sessions_test_part['session_date'])"
   ]
  },
  {
   "cell_type": "code",
   "execution_count": 20,
   "metadata": {},
   "outputs": [
    {
     "data": {
      "text/html": [
       "<div>\n",
       "<style scoped>\n",
       "    .dataframe tbody tr th:only-of-type {\n",
       "        vertical-align: middle;\n",
       "    }\n",
       "\n",
       "    .dataframe tbody tr th {\n",
       "        vertical-align: top;\n",
       "    }\n",
       "\n",
       "    .dataframe thead th {\n",
       "        text-align: right;\n",
       "    }\n",
       "</style>\n",
       "<table border=\"1\" class=\"dataframe\">\n",
       "  <thead>\n",
       "    <tr style=\"text-align: right;\">\n",
       "      <th></th>\n",
       "      <th>test_group</th>\n",
       "      <th>session_date</th>\n",
       "      <th>user_id</th>\n",
       "    </tr>\n",
       "  </thead>\n",
       "  <tbody>\n",
       "    <tr>\n",
       "      <th>0</th>\n",
       "      <td>A</td>\n",
       "      <td>2025-10-14</td>\n",
       "      <td>1477</td>\n",
       "    </tr>\n",
       "    <tr>\n",
       "      <th>1</th>\n",
       "      <td>B</td>\n",
       "      <td>2025-10-14</td>\n",
       "      <td>1466</td>\n",
       "    </tr>\n",
       "  </tbody>\n",
       "</table>\n",
       "</div>"
      ],
      "text/plain": [
       "  test_group session_date  user_id\n",
       "0          A   2025-10-14     1477\n",
       "1          B   2025-10-14     1466"
      ]
     },
     "execution_count": 20,
     "metadata": {},
     "output_type": "execute_result"
    }
   ],
   "source": [
    "# Расчитаем количество уникальных пользователей в каждой из экспериментальных групп для одного дня наблюдения\n",
    "df_grp = (sessions_test_part.groupby(['test_group', 'session_date'])\n",
    "         .agg({'user_id': 'nunique'}).reset_index())\n",
    "df_grp"
   ]
  },
  {
   "cell_type": "code",
   "execution_count": 21,
   "metadata": {},
   "outputs": [
    {
     "name": "stdout",
     "output_type": "stream",
     "text": [
      "Процентная разница между группами A и B: 0.74%\n"
     ]
    }
   ],
   "source": [
    "# Выведем количество пользователей в группах A и B\n",
    "a_users = df_grp[df_grp.test_group == 'A'].user_id.values[0]\n",
    "b_users = df_grp[df_grp.test_group == 'B'].user_id.values[0]\n",
    "\n",
    "# Рассчитываем процентную разницу\n",
    "percentage_diff = 100 * (a_users - b_users) / a_users\n",
    "\n",
    "print(f\"Процентная разница между группами A и B: {percentage_diff:.2f}%\")"
   ]
  },
  {
   "cell_type": "code",
   "execution_count": 22,
   "metadata": {
    "scrolled": true
   },
   "outputs": [
    {
     "data": {
      "image/png": "[encoded data removed]",
      "text/plain": [
       "<Figure size 576x432 with 1 Axes>"
      ]
     },
     "metadata": {},
     "output_type": "display_data"
    }
   ],
   "source": [
    "# Построим круговую диаграмму распределения пользователей между группами А и Б\n",
    "groups = ['A', 'B']\n",
    "users = [a_users, b_users]\n",
    "\n",
    "plt.figure(figsize=(8, 6))\n",
    "plt.pie(users, labels=groups, autopct='%1.1f%%', startangle=90)\n",
    "plt.title('Распределение пользователей между группами A и B', fontsize=16)\n",
    "plt.show()"
   ]
  },
  {
   "cell_type": "markdown",
   "metadata": {
    "id": "E72ozN9FOX1u"
   },
   "source": [
    "- Процентная разница между группами A и B составляет 0.74% (незначительная).\n",
    "\n",
    "- Визуализация подтверждает, что группы очень близки по размеру.\n",
    "\n",
    "- Если разница <5%, можно считать группы статистически схожими"
   ]
  },
  {
   "cell_type": "markdown",
   "metadata": {
    "id": "sgpNY5bv0eM0"
   },
   "source": [
    "#### 3.2. Проверка пересечений пользователей\n",
    "Помимо проверки равенства количества пользователей в группах полезно убедиться в том, что группы независимы. Для этого нужно убедиться, что никто из пользователей случайно не попал в обе группы одновременно.\n",
    "\n",
    "- Рассчитайте количество пользователей, которые встречаются одновременно в группах A и B, или убедитесь, что таких нет."
   ]
  },
  {
   "cell_type": "code",
   "execution_count": 23,
   "metadata": {
    "scrolled": true
   },
   "outputs": [
    {
     "name": "stdout",
     "output_type": "stream",
     "text": [
      "Количество пользователей в обеих группах: 0\n"
     ]
    }
   ],
   "source": [
    "# Выберем пользователей из групп А и В\n",
    "a_gr = sessions_test_part[sessions_test_part['test_group'] == 'A']['user_id']\n",
    "b_gr = sessions_test_part[sessions_test_part['test_group'] == 'B']['user_id']\n",
    "# Проверим пересечение пользователей в группах А и В\n",
    "intersection = list(set(a_gr) & set(b_gr))\n",
    "print(f\"Количество пользователей в обеих группах: {len(intersection)}\")"
   ]
  },
  {
   "cell_type": "markdown",
   "metadata": {
    "id": "6RvkNLrg0eM1"
   },
   "source": [
    "#### 3.3. Равномерность разделения пользователей по устройствам\n",
    "Полезно также убедиться в том, что пользователи равномерно распределены по всем доступным категориальным переменным — типам устройства и регионам.\n",
    "\n",
    "Постройте две диаграммы:\n",
    "\n",
    "- доля каждого типа устройства для пользователей из группы A,\n",
    "\n",
    "- доля каждого типа устройства для пользователей из группы B.\n",
    "\n",
    "Постарайтесь добавить на диаграммы все необходимые подписи, пояснения и заголовки, которые позволят сделать вывод о том, совпадает ли распределение устройств в группах A и B.\n"
   ]
  },
  {
   "cell_type": "code",
   "execution_count": 24,
   "metadata": {
    "id": "x_IP6PUNPWHC"
   },
   "outputs": [
    {
     "data": {
      "image/png": "[encoded data removed]",
      "text/plain": [
       "<Figure size 1008x504 with 2 Axes>"
      ]
     },
     "metadata": {},
     "output_type": "display_data"
    }
   ],
   "source": [
    "# Группируем данные по тестовой группе и типу устройства\n",
    "device_distribution = sessions_test_part.groupby(['test_group', 'device'])['user_id'].nunique().unstack()\n",
    "\n",
    "# Данные для групп A и B\n",
    "group_a_devices = device_distribution.loc['A']\n",
    "group_b_devices = device_distribution.loc['B']\n",
    "\n",
    "# Создаем график с двумя субплогами\n",
    "fig, (ax1, ax2) = plt.subplots(1, 2, figsize=(14, 7))\n",
    "fig.suptitle('Распределение типов устройств в группах A и B', fontsize=16)\n",
    "\n",
    "# Диаграмма для группы A\n",
    "ax1.pie(group_a_devices, labels=group_a_devices.index, autopct='%1.1f%%', startangle=90)\n",
    "ax1.set_title('Группа A', fontsize=14)\n",
    "\n",
    "# Диаграмма для группы B\n",
    "ax2.pie(group_b_devices, labels=group_b_devices.index, autopct='%1.1f%%', startangle=90)\n",
    "ax2.set_title('Группа B', fontsize=14)\n",
    "\n",
    "plt.tight_layout()\n",
    "plt.show()\n"
   ]
  },
  {
   "cell_type": "markdown",
   "metadata": {
    "id": "gAgmP6vo0eM1"
   },
   "source": [
    "#### 3.4. Равномерность распределения пользователей по регионам\n",
    "Теперь убедитесь, что пользователи равномерно распределены по регионам.\n",
    "\n",
    "Постройте две диаграммы:\n",
    "\n",
    "- доля каждого региона для пользователей из группы A,\n",
    "\n",
    "- доля каждого региона для пользователей из группы B.\n",
    "\n",
    "Постарайтесь добавить на диаграммы все необходимые подписи, пояснения и заголовки, которые позволят сделать вывод о том, совпадает ли распределение регионов в группах A и B. Постарайтесь использовать другой тип диаграммы, не тот, что в прошлом задании.\n"
   ]
  },
  {
   "cell_type": "code",
   "execution_count": 25,
   "metadata": {
    "id": "3hAq-FG4OdYM"
   },
   "outputs": [
    {
     "data": {
      "image/png": "[encoded data removed]",
      "text/plain": [
       "<Figure size 1008x504 with 1 Axes>"
      ]
     },
     "metadata": {
      "needs_background": "light"
     },
     "output_type": "display_data"
    }
   ],
   "source": [
    "# Группируем данные по тестовой группе и региону\n",
    "region_dist = sessions_test_part.groupby(['test_group', 'region'])['user_id'].nunique().unstack()\n",
    "\n",
    "# Нормализуем данные для отображения долей\n",
    "region_dist_normalized = region_dist.div(region_dist.sum(axis=1), axis=0) * 100\n",
    "\n",
    "plt.figure(figsize=(14, 7))\n",
    "\n",
    "# Настройка позиций столбцов\n",
    "bar_width = 0.35\n",
    "x_pos = range(len(region_dist_normalized.columns))\n",
    "\n",
    "# Столбцы для группы A\n",
    "plt.bar([x - bar_width/2 for x in x_pos], \n",
    "        region_dist_normalized.loc['A'], \n",
    "        width=bar_width, \n",
    "        label='Группа A')\n",
    "\n",
    "# Столбцы для группы B\n",
    "plt.bar([x + bar_width/2 for x in x_pos], \n",
    "        region_dist_normalized.loc['B'], \n",
    "        width=bar_width, \n",
    "        label='Группа B')\n",
    "\n",
    "plt.title('Сравнение регионального распределения между группами A и B', fontsize=16, pad=20)\n",
    "plt.xlabel('Регион', fontsize=12)\n",
    "plt.ylabel('Доля пользователей (%)', fontsize=12)\n",
    "plt.xticks(x_pos, region_dist_normalized.columns, rotation=45)\n",
    "plt.legend()\n",
    "plt.grid(axis='y', linestyle='--', alpha=0.7)\n",
    "\n",
    "# Добавляем значения на столбцы\n",
    "for i, (a_val, b_val) in enumerate(zip(region_dist_normalized.loc['A'], region_dist_normalized.loc['B'])):\n",
    "    plt.text(i - bar_width/2, a_val + 1, f'{a_val:.1f}%', ha='center')\n",
    "    plt.text(i + bar_width/2, b_val + 1, f'{b_val:.1f}%', ha='center')\n",
    "\n",
    "plt.tight_layout()\n",
    "plt.show()\n"
   ]
  },
  {
   "cell_type": "markdown",
   "metadata": {
    "id": "X2WSZ-sDrSUi"
   },
   "source": [
    "#### 3.5. Вывод после проверки A/B-теста\n",
    "\n",
    "На основе проведённого анализа A/B-теста сформулируйте и запишите свои выводы. В выводе обязательно укажите:\n",
    "\n",
    "- Были ли обнаружено различие в количестве пользователей в двух группах.\n",
    "\n",
    "- Являются ли выборки независимыми. Было ли обнаружено пересечение пользователей из тестовой и контрольной групп.\n",
    "\n",
    "- Сохраняется ли равномерное распределение пользователей тестовой и контрольной групп по категориальным переменным: устройствам и регионам.\n",
    "\n",
    "Сделайте заключение о том, корректно ли проходит A/B-тест или наблюдаются какие-либо нарушения."
   ]
  },
  {
   "cell_type": "markdown",
   "metadata": {
    "id": "dDELHlAcOi8d"
   },
   "source": []
  },
  {
   "cell_type": "markdown",
   "metadata": {},
   "source": [
    "\n",
    "- Различие статистически незначимо (менее 1% (0.74%)), что соответствует требованиям к равномерному распределению.\n",
    "- Выборки независимы, пользователи не повторяются между группами. Условие корректности A/B-теста соблюдено.\n",
    "- Распределение по устройствам и регионам равномерное.\n",
    "\n",
    "\n",
    "Вывод: A/B-тест организован правильно, обнаруженные различия между группами незначимы. Результаты теста можно считать достоверными."
   ]
  },
  {
   "cell_type": "markdown",
   "metadata": {
    "id": "nudRr_BQ0eM2"
   },
   "source": [
    "### 4. Проверка результатов A/B-теста\n",
    "\n",
    "A/B-тест завершён, и у вас есть результаты за все дни проведения эксперимента. Необходимо убедиться в корректности теста и верно интерпретировать результаты."
   ]
  },
  {
   "cell_type": "markdown",
   "metadata": {
    "id": "JVve-YBB0eM2"
   },
   "source": [
    "#### 4.1. Получение результатов теста и подсчёт основной метрики\n",
    "\n",
    "- Считайте и сохраните в датафрейм `sessions_test` CSV-файл с историческими данными о сессиях пользователей `sessions_project_test.csv`.\n",
    "\n",
    "- В датафрейме `sessions_test` создайте дополнительный столбец `good_session`. В него войдёт значение `1`, если за одну сессию было просмотрено 4 и более страниц, и значение `0`, если просмотрено меньше."
   ]
  },
  {
   "cell_type": "code",
   "execution_count": 26,
   "metadata": {
    "id": "EqRlwMtKPTir"
   },
   "outputs": [],
   "source": [
    "sessions_test = pd.read_csv('/datasets/sessions_project_test.csv')"
   ]
  },
  {
   "cell_type": "code",
   "execution_count": 27,
   "metadata": {},
   "outputs": [
    {
     "data": {
      "text/html": [
       "<div>\n",
       "<style scoped>\n",
       "    .dataframe tbody tr th:only-of-type {\n",
       "        vertical-align: middle;\n",
       "    }\n",
       "\n",
       "    .dataframe tbody tr th {\n",
       "        vertical-align: top;\n",
       "    }\n",
       "\n",
       "    .dataframe thead th {\n",
       "        text-align: right;\n",
       "    }\n",
       "</style>\n",
       "<table border=\"1\" class=\"dataframe\">\n",
       "  <thead>\n",
       "    <tr style=\"text-align: right;\">\n",
       "      <th></th>\n",
       "      <th>session_id</th>\n",
       "      <th>page_counter</th>\n",
       "      <th>good_session</th>\n",
       "    </tr>\n",
       "  </thead>\n",
       "  <tbody>\n",
       "    <tr>\n",
       "      <th>0</th>\n",
       "      <td>C69249E26E58F6E2</td>\n",
       "      <td>3</td>\n",
       "      <td>0</td>\n",
       "    </tr>\n",
       "    <tr>\n",
       "      <th>1</th>\n",
       "      <td>66D66D7C9F5181B7</td>\n",
       "      <td>2</td>\n",
       "      <td>0</td>\n",
       "    </tr>\n",
       "    <tr>\n",
       "      <th>2</th>\n",
       "      <td>50DE51D42215E74C</td>\n",
       "      <td>2</td>\n",
       "      <td>0</td>\n",
       "    </tr>\n",
       "    <tr>\n",
       "      <th>3</th>\n",
       "      <td>5763C0C353C22263</td>\n",
       "      <td>1</td>\n",
       "      <td>0</td>\n",
       "    </tr>\n",
       "    <tr>\n",
       "      <th>4</th>\n",
       "      <td>B1AD09F93C1053BC</td>\n",
       "      <td>2</td>\n",
       "      <td>0</td>\n",
       "    </tr>\n",
       "  </tbody>\n",
       "</table>\n",
       "</div>"
      ],
      "text/plain": [
       "         session_id  page_counter  good_session\n",
       "0  C69249E26E58F6E2             3             0\n",
       "1  66D66D7C9F5181B7             2             0\n",
       "2  50DE51D42215E74C             2             0\n",
       "3  5763C0C353C22263             1             0\n",
       "4  B1AD09F93C1053BC             2             0"
      ]
     },
     "metadata": {},
     "output_type": "display_data"
    }
   ],
   "source": [
    "sessions_test['good_session'] = (sessions_test['page_counter'] >= 4).astype(int)\n",
    "display(sessions_test[['session_id', 'page_counter', 'good_session']].head())"
   ]
  },
  {
   "cell_type": "markdown",
   "metadata": {
    "id": "aeYhrMYy0eM2"
   },
   "source": [
    "#### 4.2. Проверка корректности результатов теста\n",
    "\n",
    "Прежде чем приступать к анализу ключевых продуктовых метрик, необходимо убедиться, что тест проведён корректно и вы будете сравнивать две сопоставимые группы.\n",
    "\n",
    "- Рассчитайте количество уникальных сессий для каждого дня и обеих тестовых групп, используя группировку.\n",
    "\n",
    "- Проверьте, что количество уникальных дневных сессий в двух выборках не различается или различия не статистически значимы. Используйте статистический тест, который позволит сделать вывод о равенстве средних двух выборок.\n",
    "\n",
    "- В качестве ответа выведите на экран полученное значение p-value и интерпретируйте его."
   ]
  },
  {
   "cell_type": "code",
   "execution_count": 28,
   "metadata": {
    "id": "5NUlcltkTTSU",
    "scrolled": true
   },
   "outputs": [
    {
     "data": {
      "text/html": [
       "<div>\n",
       "<style scoped>\n",
       "    .dataframe tbody tr th:only-of-type {\n",
       "        vertical-align: middle;\n",
       "    }\n",
       "\n",
       "    .dataframe tbody tr th {\n",
       "        vertical-align: top;\n",
       "    }\n",
       "\n",
       "    .dataframe thead th {\n",
       "        text-align: right;\n",
       "    }\n",
       "</style>\n",
       "<table border=\"1\" class=\"dataframe\">\n",
       "  <thead>\n",
       "    <tr style=\"text-align: right;\">\n",
       "      <th>test_group</th>\n",
       "      <th>A</th>\n",
       "      <th>B</th>\n",
       "    </tr>\n",
       "    <tr>\n",
       "      <th>session_date</th>\n",
       "      <th></th>\n",
       "      <th></th>\n",
       "    </tr>\n",
       "  </thead>\n",
       "  <tbody>\n",
       "    <tr>\n",
       "      <th>2025-10-14</th>\n",
       "      <td>1502</td>\n",
       "      <td>1628</td>\n",
       "    </tr>\n",
       "    <tr>\n",
       "      <th>2025-10-15</th>\n",
       "      <td>2235</td>\n",
       "      <td>2283</td>\n",
       "    </tr>\n",
       "    <tr>\n",
       "      <th>2025-10-16</th>\n",
       "      <td>3280</td>\n",
       "      <td>3241</td>\n",
       "    </tr>\n",
       "    <tr>\n",
       "      <th>2025-10-17</th>\n",
       "      <td>4089</td>\n",
       "      <td>4054</td>\n",
       "    </tr>\n",
       "    <tr>\n",
       "      <th>2025-10-18</th>\n",
       "      <td>5013</td>\n",
       "      <td>5059</td>\n",
       "    </tr>\n",
       "  </tbody>\n",
       "</table>\n",
       "</div>"
      ],
      "text/plain": [
       "test_group       A     B\n",
       "session_date            \n",
       "2025-10-14    1502  1628\n",
       "2025-10-15    2235  2283\n",
       "2025-10-16    3280  3241\n",
       "2025-10-17    4089  4054\n",
       "2025-10-18    5013  5059"
      ]
     },
     "metadata": {},
     "output_type": "display_data"
    }
   ],
   "source": [
    "# Cгруппируем данные, чтобы получить количество уникальных сессий для каждой группы (A/B) по дням\n",
    "daily_sessions = sessions_test.groupby(['session_date', 'test_group'])['session_id'].nunique().unstack()\n",
    "display(daily_sessions.head())"
   ]
  },
  {
   "cell_type": "markdown",
   "metadata": {},
   "source": [
    "Сформулируем гипотезы для проверки: \n",
    "\n",
    "H₀ (нулевая гипотеза) — количество уникальных дневных сессий не различается между тестовой и контрольной группами.\n",
    "H₁ (альтернативная гипотеза) — количество уникальных дневных сессий различается между тестовой и контрольной группами."
   ]
  },
  {
   "cell_type": "code",
   "execution_count": 29,
   "metadata": {},
   "outputs": [
    {
     "name": "stdout",
     "output_type": "stream",
     "text": [
      "Результат t-теста: p-value = 0.9382\n",
      "Вывод: различий в количестве сессий между группами нет (тест корректен).\n"
     ]
    }
   ],
   "source": [
    "# Используем двухвыборочный t-тест (Student's t-test), чтобы проверить, различается ли среднее количество сессий между группами A и B\n",
    "from scipy.stats import ttest_ind \n",
    "\n",
    "# Выборки для групп A и B\n",
    "group_a = daily_sessions['A'].dropna()\n",
    "group_b = daily_sessions['B'].dropna()\n",
    "\n",
    "# Проведение t-теста\n",
    "t_stat, p_value = ttest_ind(group_a, group_b)\n",
    "\n",
    "print(f\"Результат t-теста: p-value = {p_value:.4f}\")\n",
    "if p_value > 0.05:\n",
    "    print(\"Вывод: различий в количестве сессий между группами нет (тест корректен).\")\n",
    "else:\n",
    "    print(\"Вывод: обнаружены статистически значимые различия (требуется проверка).\")"
   ]
  },
  {
   "cell_type": "markdown",
   "metadata": {
    "id": "7kwRxzg70eM3"
   },
   "source": [
    "#### 4.3. Сравнение доли успешных сессий\n",
    "\n",
    "Когда вы убедились, что количество сессий в обеих выборках не различалось, можно переходить к анализу ключевой метрики — доли успешных сессий.\n",
    "\n",
    "Используйте созданный на первом шаге задания столбец `good_session` и рассчитайте долю успешных сессий для выборок A и B, а также разницу в этом показателе. Полученный вывод отобразите на экране."
   ]
  },
  {
   "cell_type": "code",
   "execution_count": 30,
   "metadata": {
    "id": "Uku-V1CpPRCz"
   },
   "outputs": [
    {
     "name": "stdout",
     "output_type": "stream",
     "text": [
      "Доля good_session в группе A: 0.3077 (15248/49551)\n",
      "Доля good_session в группе B: 0.3183 (16059/50454)\n",
      "Разница (B - A): 0.0106\n"
     ]
    }
   ],
   "source": [
    "# Считаем общее количество сессий и успешных сессий для каждой группы\n",
    "group_stats = sessions_test.groupby('test_group')['good_session'].agg(['sum', 'count'])\n",
    "group_stats['proportion'] = group_stats['sum'] / group_stats['count']\n",
    "\n",
    "# Для групп A и B отдельно\n",
    "prop_a = group_stats.loc['A', 'proportion']\n",
    "prop_b = group_stats.loc['B', 'proportion']\n",
    "diff = prop_b - prop_a  # Разница между B и A\n",
    "\n",
    "print(f\"Доля good_session в группе A: {prop_a:.4f} ({group_stats.loc['A', 'sum']}/{group_stats.loc['A', 'count']})\")\n",
    "print(f\"Доля good_session в группе B: {prop_b:.4f} ({group_stats.loc['B', 'sum']}/{group_stats.loc['B', 'count']})\")\n",
    "print(f\"Разница (B - A): {diff:.4f}\")"
   ]
  },
  {
   "cell_type": "markdown",
   "metadata": {
    "id": "9fMFuja10eM4"
   },
   "source": [
    "#### 4.4. Насколько статистически значимо изменение ключевой метрики\n",
    "\n",
    "На предыдущем шаге вы убедились, что количество успешных сессий в тестовой выборке примерно на 1.1% выше, чем в контрольной, но делать выводы только на основе этого значения будет некорректно. Для принятия решения всегда необходимо отвечать на вопрос: является ли это изменение статистически значимым.\n",
    "\n",
    "- Используя статистический тест, рассчитайте, является ли изменение в метрике доли успешных сессий статистически значимым.\n",
    "\n",
    "- Выведите на экран полученное значение p-value и свои выводы о статистической значимости. Напомним, что уровень значимости в эксперименте был выбран на уровне 0.05."
   ]
  },
  {
   "cell_type": "code",
   "execution_count": 31,
   "metadata": {
    "id": "gFvhRGwlPLS0"
   },
   "outputs": [
    {
     "name": "stdout",
     "output_type": "stream",
     "text": [
      "\n",
      "Результат Z-теста: z = -3.603, p-value = 0.0003\n"
     ]
    }
   ],
   "source": [
    "from statsmodels.stats.proportion import proportions_ztest\n",
    "\n",
    "# Подготовка данных\n",
    "successes = [group_stats.loc['A', 'sum'], group_stats.loc['B', 'sum']]\n",
    "trials = [group_stats.loc['A', 'count'], group_stats.loc['B', 'count']]\n",
    "\n",
    "# Двусторонний Z-тест\n",
    "z_stat, p_value = proportions_ztest(successes, trials)\n",
    "\n",
    "print(f\"\\nРезультат Z-теста: z = {z_stat:.3f}, p-value = {p_value:.4f}\")"
   ]
  },
  {
   "cell_type": "markdown",
   "metadata": {},
   "source": [
    "- Статистическая значимость различий: p-value = 0.0003 (меньше 0.05), т.е. разница в долях статистически значима.\n",
    "Z-статистика = -3.603. Значение попадает в критическую область. Это подтверждает, что разница не случайна.\n",
    "\n",
    "- Размер эффекта:\n",
    "Группа A: 30.77% успешных сессий (15,248 / 49,551).\n",
    "Группа B: 31.83% успешных сессий (16,059 / 50,454).\n",
    "Абсолютная разница: +1.06% (B - A).\n",
    "\n",
    "- Относительный прирост: (0.3183 - 0.3077) / 0.3077 ≈ 3.44%.\n",
    "\n",
    "\n",
    "Несмотря на статистическую значимость, прирост +1.06% (или 3.44% относительного увеличения) может быть недостаточным для бизнеса, если внедрение изменений требует высоких затрат.\n",
    "\n",
    "Вывод: Тест выявил достоверное улучшение доли успешных сессий в группе B, но размер эффекта требует дополнительной оценки с точки зрения бизнес-целей."
   ]
  },
  {
   "cell_type": "markdown",
   "metadata": {
    "id": "GnJrkY9Q63zS"
   },
   "source": [
    "#### 4.5. Вывод по результатам A/B-эксперимента\n",
    "\n",
    "На основе проведённого анализа результатов теста сформулируйте и запишите свои выводы для команды разработки приложения. В выводе обязательно укажите:\n",
    "\n",
    "- Характеристики проведённого эксперимента, количество задействованных пользователей и длительность эксперимента.\n",
    "\n",
    "- Повлияло ли внедрение нового алгоритма рекомендаций на рост ключевой метрики и как.\n",
    "\n",
    "- Каким получилось значение p-value для оценки статистической значимости выявленного эффекта.\n",
    "\n",
    "- Стоит ли внедрять новоовведение в приложение."
   ]
  },
  {
   "cell_type": "markdown",
   "metadata": {
    "id": "rri8KRIgPMrW"
   },
   "source": []
  },
  {
   "cell_type": "markdown",
   "metadata": {},
   "source": [
    "**Выводы по результатам A/B-теста для команды разработки**  \n",
    "\n",
    "**1. Характеристики эксперимента**  \n",
    "- **Группы**:  \n",
    "  - **Группа A (контрольная)**: 49551 пользователей (старый алгоритм).  \n",
    "  - **Группа B (тестовая)**: 50454 пользователей (новый алгоритм рекомендаций).  \n",
    "- **Длительность теста**: 20 дней  \n",
    "- **Ключевая метрика**: Доля успешных сессий (`good_session`), где `page_counter ≥ 4`.  \n",
    "\n",
    "**2. Влияние нового алгоритма на метрику**  \n",
    "- **Группа A (старый алгоритм)**: 30.77% успешных сессий (15248 / 49551).  \n",
    "- **Группа B (новый алгоритм)**: 31.83% успешных сессий (16059 / 50454).  \n",
    "- **Абсолютный прирост**: **+1.06%**.  \n",
    "- **Относительный прирост**: **+3.44%** (`(31.83% - 30.77%) / 30.77%`).  \n",
    "\n",
    "Новый алгоритм увеличил долю успешных сессий, что говорит о его эффективности в удержании пользователей.  \n",
    "\n",
    "**3. Статистическая значимость (p-value)**  \n",
    "- **p-value = 0.0003** (Z-тест для пропорций).  \n",
    "- **Вывод**: Разница **статистически значима** (p < 0.05). Вероятность случайного отклонения — менее 0.03%.  \n",
    "\n",
    "**4. Рекомендация: внедрять или нет?**  \n",
    "Внедрить нововведение, так как:  \n",
    "- **Есть статистически значимый прирост** ключевой метрики.  \n",
    "- **Эффект устойчивый** (разница подтверждена на большой выборке).  \n",
    "- **Относительный рост (+3.44%)** может дать заметный экономический эффект при масштабировании.    \n",
    "\n",
    "**Итог**: Новый алгоритм рекомендаций улучшает пользовательский опыт и заслуживает внедрения."
   ]
  },
  {
   "cell_type": "code",
   "execution_count": null,
   "metadata": {},
   "outputs": [],
   "source": []
  }
 ],
 "metadata": {
  "ExecuteTimeLog": [
   {
    "duration": 399,
    "start_time": "2025-05-06T01:54:44.869Z"
   },
   {
    "duration": 1087,
    "start_time": "2025-05-06T01:56:30.677Z"
   },
   {
    "duration": 17,
    "start_time": "2025-05-06T01:56:56.873Z"
   },
   {
    "duration": 334,
    "start_time": "2025-05-06T02:00:33.445Z"
   },
   {
    "duration": 325,
    "start_time": "2025-05-06T02:01:31.265Z"
   },
   {
    "duration": 320,
    "start_time": "2025-05-06T02:01:55.481Z"
   },
   {
    "duration": 324,
    "start_time": "2025-05-06T02:02:26.949Z"
   },
   {
    "duration": 70,
    "start_time": "2025-05-06T02:04:16.341Z"
   },
   {
    "duration": 1108,
    "start_time": "2025-05-06T02:04:25.953Z"
   },
   {
    "duration": 320,
    "start_time": "2025-05-06T02:06:34.925Z"
   },
   {
    "duration": 312,
    "start_time": "2025-05-06T02:06:44.029Z"
   },
   {
    "duration": 41,
    "start_time": "2025-05-06T02:09:31.165Z"
   },
   {
    "duration": 201,
    "start_time": "2025-05-06T02:18:20.860Z"
   },
   {
    "duration": 1242,
    "start_time": "2025-05-06T02:22:20.953Z"
   },
   {
    "duration": 523,
    "start_time": "2025-05-06T02:23:15.264Z"
   },
   {
    "duration": 487,
    "start_time": "2025-05-06T02:23:41.488Z"
   },
   {
    "duration": 546,
    "start_time": "2025-05-06T02:25:58.753Z"
   },
   {
    "duration": 850,
    "start_time": "2025-05-06T02:30:01.204Z"
   },
   {
    "duration": 837,
    "start_time": "2025-05-06T02:30:20.909Z"
   },
   {
    "duration": 726,
    "start_time": "2025-05-06T02:30:59.533Z"
   },
   {
    "duration": 780,
    "start_time": "2025-05-06T02:31:36.828Z"
   },
   {
    "duration": 188,
    "start_time": "2025-05-06T02:37:35.061Z"
   },
   {
    "duration": 780,
    "start_time": "2025-05-06T02:38:00.268Z"
   },
   {
    "duration": 576,
    "start_time": "2025-05-06T02:38:23.173Z"
   },
   {
    "duration": 552,
    "start_time": "2025-05-06T02:38:46.445Z"
   },
   {
    "duration": 52,
    "start_time": "2025-05-06T02:44:31.856Z"
   },
   {
    "duration": 49,
    "start_time": "2025-05-06T02:44:50.673Z"
   },
   {
    "duration": 252,
    "start_time": "2025-05-06T02:48:20.349Z"
   },
   {
    "duration": 33,
    "start_time": "2025-05-06T02:49:39.205Z"
   },
   {
    "duration": 29,
    "start_time": "2025-05-06T02:49:51.312Z"
   },
   {
    "duration": 10,
    "start_time": "2025-05-06T03:20:14.032Z"
   },
   {
    "duration": 180,
    "start_time": "2025-05-06T03:22:40.895Z"
   },
   {
    "duration": 186,
    "start_time": "2025-05-06T03:23:18.539Z"
   },
   {
    "duration": 186,
    "start_time": "2025-05-06T03:23:49.712Z"
   },
   {
    "duration": 176,
    "start_time": "2025-05-06T03:24:00.583Z"
   },
   {
    "duration": 178,
    "start_time": "2025-05-06T03:24:09.435Z"
   },
   {
    "duration": 293,
    "start_time": "2025-05-06T03:24:18.771Z"
   },
   {
    "duration": 193,
    "start_time": "2025-05-06T03:24:38.019Z"
   },
   {
    "duration": 210,
    "start_time": "2025-05-06T03:24:53.083Z"
   },
   {
    "duration": 178,
    "start_time": "2025-05-06T03:26:20.063Z"
   },
   {
    "duration": 174,
    "start_time": "2025-05-06T03:27:14.620Z"
   },
   {
    "duration": 170,
    "start_time": "2025-05-06T03:29:30.815Z"
   },
   {
    "duration": 171,
    "start_time": "2025-05-06T03:29:40.719Z"
   },
   {
    "duration": 200,
    "start_time": "2025-05-06T03:29:51.483Z"
   },
   {
    "duration": 35,
    "start_time": "2025-05-06T03:35:59.614Z"
   },
   {
    "duration": 22,
    "start_time": "2025-05-06T03:36:17.575Z"
   },
   {
    "duration": 25,
    "start_time": "2025-05-06T03:36:50.366Z"
   },
   {
    "duration": 63,
    "start_time": "2025-05-06T03:40:52.734Z"
   },
   {
    "duration": 67,
    "start_time": "2025-05-06T03:41:12.330Z"
   },
   {
    "duration": 137,
    "start_time": "2025-05-06T03:42:15.358Z"
   },
   {
    "duration": 70,
    "start_time": "2025-05-06T03:43:32.346Z"
   },
   {
    "duration": 77,
    "start_time": "2025-05-06T03:49:37.334Z"
   },
   {
    "duration": 435,
    "start_time": "2025-05-06T03:51:19.841Z"
   },
   {
    "duration": 1075,
    "start_time": "2025-05-06T03:51:20.278Z"
   },
   {
    "duration": 18,
    "start_time": "2025-05-06T03:51:21.355Z"
   },
   {
    "duration": 428,
    "start_time": "2025-05-06T03:51:21.375Z"
   },
   {
    "duration": 55,
    "start_time": "2025-05-06T03:51:21.805Z"
   },
   {
    "duration": 230,
    "start_time": "2025-05-06T03:51:21.862Z"
   },
   {
    "duration": 804,
    "start_time": "2025-05-06T03:51:22.094Z"
   },
   {
    "duration": 565,
    "start_time": "2025-05-06T03:51:22.900Z"
   },
   {
    "duration": 38,
    "start_time": "2025-05-06T03:51:23.467Z"
   },
   {
    "duration": 197,
    "start_time": "2025-05-06T03:51:23.508Z"
   },
   {
    "duration": 45,
    "start_time": "2025-05-06T03:51:23.706Z"
   },
   {
    "duration": 119,
    "start_time": "2025-05-06T03:51:23.752Z"
   },
   {
    "duration": 0,
    "start_time": "2025-05-06T03:51:23.873Z"
   },
   {
    "duration": 0,
    "start_time": "2025-05-06T03:51:23.875Z"
   },
   {
    "duration": 89,
    "start_time": "2025-05-06T03:53:51.722Z"
   },
   {
    "duration": 564,
    "start_time": "2025-05-06T03:54:21.410Z"
   },
   {
    "duration": 438,
    "start_time": "2025-05-06T03:56:24.042Z"
   },
   {
    "duration": 371,
    "start_time": "2025-05-06T03:56:44.510Z"
   },
   {
    "duration": 406,
    "start_time": "2025-05-06T03:57:18.386Z"
   },
   {
    "duration": 410,
    "start_time": "2025-05-06T03:57:47.534Z"
   },
   {
    "duration": 271,
    "start_time": "2025-05-06T03:58:17.914Z"
   },
   {
    "duration": 278,
    "start_time": "2025-05-06T03:59:11.258Z"
   },
   {
    "duration": 257,
    "start_time": "2025-05-06T04:01:18.601Z"
   },
   {
    "duration": 261,
    "start_time": "2025-05-06T04:01:29.202Z"
   },
   {
    "duration": 261,
    "start_time": "2025-05-06T04:01:48.490Z"
   },
   {
    "duration": 71,
    "start_time": "2025-05-06T04:06:24.702Z"
   },
   {
    "duration": 4,
    "start_time": "2025-05-06T04:06:36.773Z"
   },
   {
    "duration": 4,
    "start_time": "2025-05-06T04:07:27.317Z"
   },
   {
    "duration": 312,
    "start_time": "2025-05-06T04:10:22.561Z"
   },
   {
    "duration": 369,
    "start_time": "2025-05-06T04:14:06.381Z"
   },
   {
    "duration": 247,
    "start_time": "2025-05-06T04:16:26.485Z"
   },
   {
    "duration": 247,
    "start_time": "2025-05-06T04:16:37.289Z"
   },
   {
    "duration": 429,
    "start_time": "2025-05-06T04:20:11.766Z"
   },
   {
    "duration": 20,
    "start_time": "2025-05-06T04:21:11.922Z"
   },
   {
    "duration": 16,
    "start_time": "2025-05-06T04:21:19.610Z"
   },
   {
    "duration": 96,
    "start_time": "2025-05-06T04:59:26.811Z"
   },
   {
    "duration": 111,
    "start_time": "2025-05-06T04:59:42.601Z"
   },
   {
    "duration": 90,
    "start_time": "2025-05-06T04:59:52.217Z"
   },
   {
    "duration": 66,
    "start_time": "2025-05-06T05:03:25.717Z"
   },
   {
    "duration": 62,
    "start_time": "2025-05-06T05:03:44.141Z"
   },
   {
    "duration": 78,
    "start_time": "2025-05-06T05:06:34.093Z"
   },
   {
    "duration": 213,
    "start_time": "2025-05-06T05:06:50.336Z"
   },
   {
    "duration": 193,
    "start_time": "2025-05-06T05:12:17.105Z"
   },
   {
    "duration": 223,
    "start_time": "2025-05-06T05:12:24.233Z"
   },
   {
    "duration": 13,
    "start_time": "2025-05-06T05:14:33.821Z"
   },
   {
    "duration": 23,
    "start_time": "2025-05-06T05:15:07.464Z"
   },
   {
    "duration": 14,
    "start_time": "2025-05-06T05:19:50.424Z"
   },
   {
    "duration": 13,
    "start_time": "2025-05-06T05:19:57.329Z"
   },
   {
    "duration": 5,
    "start_time": "2025-05-06T05:20:59.329Z"
   },
   {
    "duration": 61,
    "start_time": "2025-05-06T05:24:35.725Z"
   },
   {
    "duration": 3,
    "start_time": "2025-05-06T05:26:59.180Z"
   },
   {
    "duration": 4,
    "start_time": "2025-05-06T05:27:34.664Z"
   },
   {
    "duration": 4,
    "start_time": "2025-05-06T05:28:05.076Z"
   },
   {
    "duration": 4,
    "start_time": "2025-05-06T05:28:39.305Z"
   },
   {
    "duration": 62,
    "start_time": "2025-05-06T05:29:00.244Z"
   },
   {
    "duration": 63,
    "start_time": "2025-05-06T05:29:06.000Z"
   },
   {
    "duration": 4,
    "start_time": "2025-05-06T05:29:13.976Z"
   },
   {
    "duration": 58,
    "start_time": "2025-05-06T05:29:23.808Z"
   },
   {
    "duration": 65,
    "start_time": "2025-05-06T05:29:48.964Z"
   },
   {
    "duration": 4,
    "start_time": "2025-05-06T05:30:20.819Z"
   },
   {
    "duration": 4,
    "start_time": "2025-05-06T05:30:30.428Z"
   },
   {
    "duration": 21,
    "start_time": "2025-05-06T05:32:52.172Z"
   },
   {
    "duration": 9,
    "start_time": "2025-05-06T05:45:06.244Z"
   },
   {
    "duration": 14,
    "start_time": "2025-05-06T05:48:53.239Z"
   },
   {
    "duration": 9,
    "start_time": "2025-05-06T05:50:31.600Z"
   },
   {
    "duration": 23,
    "start_time": "2025-05-06T05:51:38.327Z"
   },
   {
    "duration": 16,
    "start_time": "2025-05-06T05:54:22.455Z"
   },
   {
    "duration": 16,
    "start_time": "2025-05-06T05:54:49.407Z"
   },
   {
    "duration": 147,
    "start_time": "2025-05-06T06:09:26.361Z"
   },
   {
    "duration": 89,
    "start_time": "2025-05-06T06:23:52.523Z"
   },
   {
    "duration": 12,
    "start_time": "2025-05-06T06:24:15.862Z"
   },
   {
    "duration": 13,
    "start_time": "2025-05-06T06:25:10.958Z"
   },
   {
    "duration": 241,
    "start_time": "2025-05-06T06:25:32.051Z"
   },
   {
    "duration": 6,
    "start_time": "2025-05-06T06:29:13.815Z"
   },
   {
    "duration": 75,
    "start_time": "2025-05-06T06:29:16.875Z"
   },
   {
    "duration": 66,
    "start_time": "2025-05-06T06:29:26.357Z"
   },
   {
    "duration": 14,
    "start_time": "2025-05-06T06:29:52.759Z"
   },
   {
    "duration": 314,
    "start_time": "2025-05-06T06:30:00.367Z"
   },
   {
    "duration": 150,
    "start_time": "2025-05-06T06:32:06.179Z"
   },
   {
    "duration": 239,
    "start_time": "2025-05-06T06:32:11.342Z"
   },
   {
    "duration": 6,
    "start_time": "2025-05-06T06:35:24.746Z"
   },
   {
    "duration": 12,
    "start_time": "2025-05-06T06:35:51.462Z"
   },
   {
    "duration": 13,
    "start_time": "2025-05-06T06:37:15.290Z"
   },
   {
    "duration": 84,
    "start_time": "2025-05-06T06:37:48.234Z"
   },
   {
    "duration": 83,
    "start_time": "2025-05-06T06:39:36.938Z"
   },
   {
    "duration": 88,
    "start_time": "2025-05-06T06:39:43.949Z"
   },
   {
    "duration": 6,
    "start_time": "2025-05-06T06:41:38.118Z"
   },
   {
    "duration": 86,
    "start_time": "2025-05-06T06:41:47.626Z"
   },
   {
    "duration": 54,
    "start_time": "2025-05-06T08:38:57.763Z"
   },
   {
    "duration": 435,
    "start_time": "2025-05-06T08:39:14.119Z"
   },
   {
    "duration": 1105,
    "start_time": "2025-05-06T08:39:14.556Z"
   },
   {
    "duration": 18,
    "start_time": "2025-05-06T08:39:15.662Z"
   },
   {
    "duration": 499,
    "start_time": "2025-05-06T08:39:15.682Z"
   },
   {
    "duration": 46,
    "start_time": "2025-05-06T08:39:16.182Z"
   },
   {
    "duration": 203,
    "start_time": "2025-05-06T08:39:16.230Z"
   },
   {
    "duration": 1029,
    "start_time": "2025-05-06T08:39:16.435Z"
   },
   {
    "duration": 577,
    "start_time": "2025-05-06T08:39:17.467Z"
   },
   {
    "duration": 63,
    "start_time": "2025-05-06T08:39:18.046Z"
   },
   {
    "duration": 263,
    "start_time": "2025-05-06T08:39:18.113Z"
   },
   {
    "duration": 52,
    "start_time": "2025-05-06T08:39:18.378Z"
   },
   {
    "duration": 4,
    "start_time": "2025-05-06T08:39:18.431Z"
   },
   {
    "duration": 412,
    "start_time": "2025-05-06T08:39:18.437Z"
   },
   {
    "duration": 465,
    "start_time": "2025-05-06T08:39:18.852Z"
   },
   {
    "duration": 244,
    "start_time": "2025-05-06T08:39:19.320Z"
   },
   {
    "duration": 23,
    "start_time": "2025-05-06T08:39:19.566Z"
   },
   {
    "duration": 6,
    "start_time": "2025-05-06T08:39:19.591Z"
   },
   {
    "duration": 20,
    "start_time": "2025-05-06T08:39:19.598Z"
   },
   {
    "duration": 112,
    "start_time": "2025-05-06T08:39:19.619Z"
   },
   {
    "duration": 45,
    "start_time": "2025-05-06T08:39:19.733Z"
   },
   {
    "duration": 110,
    "start_time": "2025-05-06T08:39:19.779Z"
   },
   {
    "duration": 14,
    "start_time": "2025-05-06T08:39:19.891Z"
   },
   {
    "duration": 8,
    "start_time": "2025-05-06T08:42:20.692Z"
   },
   {
    "duration": 6,
    "start_time": "2025-05-06T08:42:42.271Z"
   },
   {
    "duration": 6,
    "start_time": "2025-05-06T08:42:58.011Z"
   },
   {
    "duration": 115,
    "start_time": "2025-05-06T08:53:03.678Z"
   },
   {
    "duration": 440,
    "start_time": "2025-05-06T08:53:50.315Z"
   },
   {
    "duration": 440,
    "start_time": "2025-05-06T08:56:42.379Z"
   },
   {
    "duration": 332,
    "start_time": "2025-05-06T08:59:35.527Z"
   },
   {
    "duration": 312,
    "start_time": "2025-05-06T09:03:39.902Z"
   },
   {
    "duration": 338,
    "start_time": "2025-05-06T09:04:00.059Z"
   },
   {
    "duration": 364,
    "start_time": "2025-05-06T10:02:08.948Z"
   },
   {
    "duration": 334,
    "start_time": "2025-05-06T10:02:49.816Z"
   },
   {
    "duration": 352,
    "start_time": "2025-05-06T10:04:43.439Z"
   },
   {
    "duration": 333,
    "start_time": "2025-05-06T10:06:27.881Z"
   },
   {
    "duration": 273,
    "start_time": "2025-05-06T10:24:26.259Z"
   },
   {
    "duration": 5,
    "start_time": "2025-05-06T10:26:08.213Z"
   },
   {
    "duration": 14,
    "start_time": "2025-05-06T10:26:59.229Z"
   },
   {
    "duration": 47,
    "start_time": "2025-05-06T10:30:24.029Z"
   },
   {
    "duration": 11,
    "start_time": "2025-05-06T10:32:13.248Z"
   },
   {
    "duration": 5,
    "start_time": "2025-05-06T10:32:59.017Z"
   },
   {
    "duration": 5,
    "start_time": "2025-05-06T10:34:24.873Z"
   },
   {
    "duration": 15,
    "start_time": "2025-05-06T10:36:16.301Z"
   },
   {
    "duration": 9,
    "start_time": "2025-05-06T10:38:17.205Z"
   },
   {
    "duration": 75,
    "start_time": "2025-05-06T10:50:34.377Z"
   },
   {
    "duration": 382,
    "start_time": "2025-05-06T14:18:13.367Z"
   },
   {
    "duration": 1037,
    "start_time": "2025-05-06T14:18:13.751Z"
   },
   {
    "duration": 16,
    "start_time": "2025-05-06T14:18:14.790Z"
   },
   {
    "duration": 352,
    "start_time": "2025-05-06T14:18:14.808Z"
   },
   {
    "duration": 42,
    "start_time": "2025-05-06T14:18:15.162Z"
   },
   {
    "duration": 218,
    "start_time": "2025-05-06T14:18:15.206Z"
   },
   {
    "duration": 779,
    "start_time": "2025-05-06T14:18:15.426Z"
   },
   {
    "duration": 562,
    "start_time": "2025-05-06T14:18:16.207Z"
   },
   {
    "duration": 36,
    "start_time": "2025-05-06T14:18:16.771Z"
   },
   {
    "duration": 230,
    "start_time": "2025-05-06T14:18:16.809Z"
   },
   {
    "duration": 35,
    "start_time": "2025-05-06T14:18:17.041Z"
   },
   {
    "duration": 60,
    "start_time": "2025-05-06T14:18:17.077Z"
   },
   {
    "duration": 816,
    "start_time": "2025-05-06T14:18:17.139Z"
   },
   {
    "duration": 644,
    "start_time": "2025-05-06T14:18:17.958Z"
   },
   {
    "duration": 229,
    "start_time": "2025-05-06T14:18:18.604Z"
   },
   {
    "duration": 21,
    "start_time": "2025-05-06T14:18:18.835Z"
   },
   {
    "duration": 5,
    "start_time": "2025-05-06T14:18:18.857Z"
   },
   {
    "duration": 6,
    "start_time": "2025-05-06T14:18:18.864Z"
   },
   {
    "duration": 31,
    "start_time": "2025-05-06T14:18:18.871Z"
   },
   {
    "duration": 6,
    "start_time": "2025-05-06T14:18:18.903Z"
   },
   {
    "duration": 86,
    "start_time": "2025-05-06T14:18:18.910Z"
   },
   {
    "duration": 8,
    "start_time": "2025-05-06T14:18:18.998Z"
   },
   {
    "duration": 332,
    "start_time": "2025-05-06T14:18:19.007Z"
   },
   {
    "duration": 109,
    "start_time": "2025-05-06T14:18:19.340Z"
   },
   {
    "duration": 0,
    "start_time": "2025-05-06T14:18:19.450Z"
   },
   {
    "duration": 0,
    "start_time": "2025-05-06T14:18:19.452Z"
   },
   {
    "duration": 0,
    "start_time": "2025-05-06T14:18:19.453Z"
   },
   {
    "duration": 0,
    "start_time": "2025-05-06T14:18:19.454Z"
   },
   {
    "duration": 0,
    "start_time": "2025-05-06T14:18:19.455Z"
   },
   {
    "duration": 0,
    "start_time": "2025-05-06T14:18:19.456Z"
   },
   {
    "duration": 9,
    "start_time": "2025-05-06T14:20:57.897Z"
   },
   {
    "duration": 61,
    "start_time": "2025-05-06T15:33:19.328Z"
   },
   {
    "duration": 404,
    "start_time": "2025-05-06T15:34:19.225Z"
   },
   {
    "duration": 1476,
    "start_time": "2025-05-06T15:34:19.631Z"
   },
   {
    "duration": 19,
    "start_time": "2025-05-06T15:34:21.109Z"
   },
   {
    "duration": 424,
    "start_time": "2025-05-06T15:34:21.130Z"
   },
   {
    "duration": 51,
    "start_time": "2025-05-06T15:34:21.556Z"
   },
   {
    "duration": 320,
    "start_time": "2025-05-06T15:34:21.609Z"
   },
   {
    "duration": 1114,
    "start_time": "2025-05-06T15:34:21.930Z"
   },
   {
    "duration": 626,
    "start_time": "2025-05-06T15:34:23.046Z"
   },
   {
    "duration": 50,
    "start_time": "2025-05-06T15:34:23.674Z"
   },
   {
    "duration": 274,
    "start_time": "2025-05-06T15:34:23.726Z"
   },
   {
    "duration": 44,
    "start_time": "2025-05-06T15:34:24.002Z"
   },
   {
    "duration": 6,
    "start_time": "2025-05-06T15:34:24.064Z"
   },
   {
    "duration": 374,
    "start_time": "2025-05-06T15:34:24.072Z"
   },
   {
    "duration": 494,
    "start_time": "2025-05-06T15:34:24.448Z"
   },
   {
    "duration": 249,
    "start_time": "2025-05-06T15:34:24.944Z"
   },
   {
    "duration": 24,
    "start_time": "2025-05-06T15:34:25.195Z"
   },
   {
    "duration": 6,
    "start_time": "2025-05-06T15:34:25.221Z"
   },
   {
    "duration": 11,
    "start_time": "2025-05-06T15:34:25.229Z"
   },
   {
    "duration": 171,
    "start_time": "2025-05-06T15:34:25.242Z"
   },
   {
    "duration": 10,
    "start_time": "2025-05-06T15:34:25.414Z"
   },
   {
    "duration": 120,
    "start_time": "2025-05-06T15:34:25.426Z"
   },
   {
    "duration": 8,
    "start_time": "2025-05-06T15:34:25.547Z"
   },
   {
    "duration": 358,
    "start_time": "2025-05-06T15:34:25.560Z"
   },
   {
    "duration": 466,
    "start_time": "2025-05-06T15:34:25.920Z"
   },
   {
    "duration": 276,
    "start_time": "2025-05-06T15:34:26.388Z"
   },
   {
    "duration": 23,
    "start_time": "2025-05-06T15:34:26.666Z"
   },
   {
    "duration": 66,
    "start_time": "2025-05-06T15:34:26.691Z"
   },
   {
    "duration": 13,
    "start_time": "2025-05-06T15:34:26.763Z"
   },
   {
    "duration": 21,
    "start_time": "2025-05-06T15:34:26.778Z"
   },
   {
    "duration": 10,
    "start_time": "2025-05-06T15:34:26.802Z"
   },
   {
    "duration": 447,
    "start_time": "2025-05-07T01:31:07.590Z"
   },
   {
    "duration": 1133,
    "start_time": "2025-05-07T01:31:08.039Z"
   },
   {
    "duration": 19,
    "start_time": "2025-05-07T01:31:09.173Z"
   },
   {
    "duration": 494,
    "start_time": "2025-05-07T01:31:09.204Z"
   },
   {
    "duration": 43,
    "start_time": "2025-05-07T01:31:09.699Z"
   },
   {
    "duration": 217,
    "start_time": "2025-05-07T01:31:09.743Z"
   },
   {
    "duration": 9,
    "start_time": "2025-05-07T01:31:09.962Z"
   },
   {
    "duration": 1046,
    "start_time": "2025-05-07T01:31:09.973Z"
   },
   {
    "duration": 575,
    "start_time": "2025-05-07T01:31:11.021Z"
   },
   {
    "duration": 57,
    "start_time": "2025-05-07T01:31:11.599Z"
   },
   {
    "duration": 256,
    "start_time": "2025-05-07T01:31:11.658Z"
   },
   {
    "duration": 40,
    "start_time": "2025-05-07T01:31:11.916Z"
   },
   {
    "duration": 3,
    "start_time": "2025-05-07T01:31:11.958Z"
   },
   {
    "duration": 370,
    "start_time": "2025-05-07T01:31:11.962Z"
   },
   {
    "duration": 441,
    "start_time": "2025-05-07T01:31:12.334Z"
   },
   {
    "duration": 232,
    "start_time": "2025-05-07T01:31:12.777Z"
   },
   {
    "duration": 23,
    "start_time": "2025-05-07T01:31:13.011Z"
   },
   {
    "duration": 5,
    "start_time": "2025-05-07T01:31:13.035Z"
   },
   {
    "duration": 16,
    "start_time": "2025-05-07T01:31:13.042Z"
   },
   {
    "duration": 17,
    "start_time": "2025-05-07T01:31:13.059Z"
   },
   {
    "duration": 6,
    "start_time": "2025-05-07T01:31:13.077Z"
   },
   {
    "duration": 101,
    "start_time": "2025-05-07T01:31:13.085Z"
   },
   {
    "duration": 17,
    "start_time": "2025-05-07T01:31:13.188Z"
   },
   {
    "duration": 407,
    "start_time": "2025-05-07T01:31:13.207Z"
   },
   {
    "duration": 406,
    "start_time": "2025-05-07T01:31:13.616Z"
   },
   {
    "duration": 254,
    "start_time": "2025-05-07T01:31:14.023Z"
   },
   {
    "duration": 15,
    "start_time": "2025-05-07T01:31:14.278Z"
   },
   {
    "duration": 58,
    "start_time": "2025-05-07T01:31:14.296Z"
   },
   {
    "duration": 6,
    "start_time": "2025-05-07T01:31:14.356Z"
   },
   {
    "duration": 31,
    "start_time": "2025-05-07T01:31:14.364Z"
   },
   {
    "duration": 14,
    "start_time": "2025-05-07T01:31:14.397Z"
   },
   {
    "duration": 77,
    "start_time": "2025-05-07T01:38:03.182Z"
   },
   {
    "duration": 11,
    "start_time": "2025-05-07T01:46:45.568Z"
   },
   {
    "duration": 417,
    "start_time": "2025-05-07T01:53:02.732Z"
   },
   {
    "duration": 1125,
    "start_time": "2025-05-07T01:53:03.151Z"
   },
   {
    "duration": 29,
    "start_time": "2025-05-07T01:53:04.277Z"
   },
   {
    "duration": 400,
    "start_time": "2025-05-07T01:53:04.308Z"
   },
   {
    "duration": 43,
    "start_time": "2025-05-07T01:53:04.710Z"
   },
   {
    "duration": 256,
    "start_time": "2025-05-07T01:53:04.754Z"
   },
   {
    "duration": 10,
    "start_time": "2025-05-07T01:53:05.012Z"
   },
   {
    "duration": 883,
    "start_time": "2025-05-07T01:53:05.024Z"
   },
   {
    "duration": 607,
    "start_time": "2025-05-07T01:53:05.909Z"
   },
   {
    "duration": 37,
    "start_time": "2025-05-07T01:53:06.519Z"
   },
   {
    "duration": 208,
    "start_time": "2025-05-07T01:53:06.557Z"
   },
   {
    "duration": 46,
    "start_time": "2025-05-07T01:53:06.766Z"
   },
   {
    "duration": 4,
    "start_time": "2025-05-07T01:53:06.814Z"
   },
   {
    "duration": 414,
    "start_time": "2025-05-07T01:53:06.819Z"
   },
   {
    "duration": 433,
    "start_time": "2025-05-07T01:53:07.235Z"
   },
   {
    "duration": 225,
    "start_time": "2025-05-07T01:53:07.669Z"
   },
   {
    "duration": 23,
    "start_time": "2025-05-07T01:53:07.896Z"
   },
   {
    "duration": 5,
    "start_time": "2025-05-07T01:53:07.920Z"
   },
   {
    "duration": 29,
    "start_time": "2025-05-07T01:53:07.927Z"
   },
   {
    "duration": 37,
    "start_time": "2025-05-07T01:53:07.957Z"
   },
   {
    "duration": 7,
    "start_time": "2025-05-07T01:53:07.996Z"
   },
   {
    "duration": 114,
    "start_time": "2025-05-07T01:53:08.005Z"
   },
   {
    "duration": 8,
    "start_time": "2025-05-07T01:53:08.120Z"
   },
   {
    "duration": 394,
    "start_time": "2025-05-07T01:53:08.130Z"
   },
   {
    "duration": 331,
    "start_time": "2025-05-07T01:53:08.525Z"
   },
   {
    "duration": 256,
    "start_time": "2025-05-07T01:53:08.858Z"
   },
   {
    "duration": 16,
    "start_time": "2025-05-07T01:53:09.115Z"
   },
   {
    "duration": 48,
    "start_time": "2025-05-07T01:53:09.135Z"
   },
   {
    "duration": 25,
    "start_time": "2025-05-07T01:53:09.185Z"
   },
   {
    "duration": 21,
    "start_time": "2025-05-07T01:53:09.212Z"
   },
   {
    "duration": 106,
    "start_time": "2025-05-07T01:53:09.236Z"
   },
   {
    "duration": 425,
    "start_time": "2025-05-08T06:39:39.764Z"
   },
   {
    "duration": 1012,
    "start_time": "2025-05-08T06:39:40.190Z"
   },
   {
    "duration": 17,
    "start_time": "2025-05-08T06:39:41.204Z"
   },
   {
    "duration": 345,
    "start_time": "2025-05-08T06:39:41.222Z"
   },
   {
    "duration": 42,
    "start_time": "2025-05-08T06:39:41.570Z"
   },
   {
    "duration": 190,
    "start_time": "2025-05-08T06:39:41.613Z"
   },
   {
    "duration": 8,
    "start_time": "2025-05-08T06:39:41.805Z"
   },
   {
    "duration": 1078,
    "start_time": "2025-05-08T06:39:41.815Z"
   },
   {
    "duration": 1008,
    "start_time": "2025-05-08T06:39:42.895Z"
   },
   {
    "duration": 99,
    "start_time": "2025-05-08T06:39:43.904Z"
   },
   {
    "duration": 410,
    "start_time": "2025-05-08T06:39:44.005Z"
   },
   {
    "duration": 36,
    "start_time": "2025-05-08T06:39:44.417Z"
   },
   {
    "duration": 7,
    "start_time": "2025-05-08T06:39:44.454Z"
   },
   {
    "duration": 340,
    "start_time": "2025-05-08T06:39:44.478Z"
   },
   {
    "duration": 434,
    "start_time": "2025-05-08T06:39:44.820Z"
   },
   {
    "duration": 233,
    "start_time": "2025-05-08T06:39:45.256Z"
   },
   {
    "duration": 22,
    "start_time": "2025-05-08T06:39:45.490Z"
   },
   {
    "duration": 66,
    "start_time": "2025-05-08T06:39:45.514Z"
   },
   {
    "duration": 18,
    "start_time": "2025-05-08T06:39:45.581Z"
   },
   {
    "duration": 37,
    "start_time": "2025-05-08T06:39:45.600Z"
   },
   {
    "duration": 15,
    "start_time": "2025-05-08T06:39:45.638Z"
   },
   {
    "duration": 89,
    "start_time": "2025-05-08T06:39:45.654Z"
   },
   {
    "duration": 8,
    "start_time": "2025-05-08T06:39:45.744Z"
   },
   {
    "duration": 438,
    "start_time": "2025-05-08T06:39:45.753Z"
   },
   {
    "duration": 397,
    "start_time": "2025-05-08T06:39:46.193Z"
   },
   {
    "duration": 246,
    "start_time": "2025-05-08T06:39:46.592Z"
   },
   {
    "duration": 13,
    "start_time": "2025-05-08T06:39:46.840Z"
   },
   {
    "duration": 60,
    "start_time": "2025-05-08T06:39:46.854Z"
   },
   {
    "duration": 5,
    "start_time": "2025-05-08T06:39:46.916Z"
   },
   {
    "duration": 19,
    "start_time": "2025-05-08T06:39:46.922Z"
   },
   {
    "duration": 17,
    "start_time": "2025-05-08T06:39:46.942Z"
   },
   {
    "duration": 77,
    "start_time": "2025-05-08T06:42:20.135Z"
   }
  ],
  "colab": {
   "provenance": []
  },
  "kernelspec": {
   "display_name": "Python 3 (ipykernel)",
   "language": "python",
   "name": "python3"
  },
  "language_info": {
   "codemirror_mode": {
    "name": "ipython",
    "version": 3
   },
   "file_extension": ".py",
   "mimetype": "text/x-python",
   "name": "python",
   "nbconvert_exporter": "python",
   "pygments_lexer": "ipython3",
   "version": "3.12.7"
  },
  "toc": {
   "base_numbering": 1,
   "nav_menu": {},
   "number_sections": true,
   "sideBar": true,
   "skip_h1_title": true,
   "title_cell": "Table of Contents",
   "title_sidebar": "Contents",
   "toc_cell": false,
   "toc_position": {},
   "toc_section_display": true,
   "toc_window_display": true
  }
 },
 "nbformat": 4,
 "nbformat_minor": 4
}
